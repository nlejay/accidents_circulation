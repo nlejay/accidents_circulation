{
 "cells": [
  {
   "cell_type": "markdown",
   "id": "34cd5f54-41db-4b7a-a1d3-488dc0041482",
   "metadata": {},
   "source": [
    "# Projet accidents de la route\n",
    "\n",
    "Ce projet porte sur un jeu de données de l'**Observatoire National Interministériel de la Sécurité Routière (ONISR)** recensant les accidents corporels (mortel ou non) de la circulation routière en France. Les données sont regroupées en plusieurs fichiers : quatre fichiers par année pour chaque année de 2005 à 2019 (voir *README.md*. Ce notebook n'est que la partie qui a permis de créer des fichiers csv contenant toutes les années de 2005 à 2021.\n",
    "\n",
    "***\n",
    "## Ouverture et concaténation des données des fichiers caractéristiques\n",
    "\n",
    "\n",
    "D'après la documentation fournie, les données jusqu'en 2019 contiennent les mêmes variables. En revanche, à partir de 2019, la variable *gps* n'existe plus. \n",
    "\n",
    "A noter que les fichiers csv de chaque année possède des séparateurs différents : point-virgule, virgule ou tabulation."
   ]
  },
  {
   "cell_type": "code",
   "execution_count": 1,
   "id": "5c3c79fa-4eb8-45b3-9522-dc561b6b95c5",
   "metadata": {},
   "outputs": [],
   "source": [
    "import pandas as pd\n",
    "\n",
    "# Liste qui va contenir tous les dataframes (un par année) avant leur concaténation\n",
    "liste_dataframes = []\n",
    "\n",
    "# Ouverture des fichiers dont le séparateur est ;\n",
    "for i in range(2019,2022,1):\n",
    "    liste_dataframes.append(pd.read_csv(f\"src/caracteristiques_{i}.csv\", sep=';'))\n",
    "    \n",
    "# Ouverture des fichiers dont le séparateur est ,\n",
    "for i in range(2005,2009,1):\n",
    "    liste_dataframes.append(pd.read_csv(f'src/caracteristiques_{i}.csv', sep=','))\n",
    "for i in range(2010,2019,1):\n",
    "    liste_dataframes.append(pd.read_csv(f'src/caracteristiques_{i}.csv', sep=','))\n",
    "\n",
    "# Ouverture des fichiers dont le séparateur est la tabulation\n",
    "liste_dataframes.append(pd.read_csv(f'src/caracteristiques_2009.csv', sep='\\t'))\n",
    "\n",
    "#concaténation de tous les dataframes\n",
    "data_caracteristiques = pd.concat(liste_dataframes, axis=0, ignore_index=True)\n",
    "\n"
   ]
  },
  {
   "cell_type": "code",
   "execution_count": 2,
   "id": "b4cbd730-0319-401c-88c7-883c5da36741",
   "metadata": {},
   "outputs": [
    {
     "name": "stdout",
     "output_type": "stream",
     "text": [
      "<class 'pandas.core.frame.DataFrame'>\n",
      "RangeIndex: 1121571 entries, 0 to 1121570\n",
      "Data columns (total 16 columns):\n",
      " #   Column   Non-Null Count    Dtype  \n",
      "---  ------   --------------    -----  \n",
      " 0   Num_Acc  1121571 non-null  int64  \n",
      " 1   jour     1121571 non-null  int64  \n",
      " 2   mois     1121571 non-null  int64  \n",
      " 3   an       1121571 non-null  int64  \n",
      " 4   hrmn     1121571 non-null  object \n",
      " 5   lum      1121571 non-null  int64  \n",
      " 6   dep      1121571 non-null  object \n",
      " 7   com      1121569 non-null  object \n",
      " 8   agg      1121571 non-null  int64  \n",
      " 9   int      1121571 non-null  int64  \n",
      " 10  atm      1121498 non-null  float64\n",
      " 11  col      1121552 non-null  float64\n",
      " 12  adr      978295 non-null   object \n",
      " 13  lat      634503 non-null   object \n",
      " 14  long     634499 non-null   object \n",
      " 15  gps      480052 non-null   object \n",
      "dtypes: float64(2), int64(7), object(7)\n",
      "memory usage: 136.9+ MB\n"
     ]
    }
   ],
   "source": [
    "data_caracteristiques.info()"
   ]
  },
  {
   "cell_type": "code",
   "execution_count": 3,
   "id": "907aca25-72e7-4503-b006-80d6eb43ee63",
   "metadata": {},
   "outputs": [
    {
     "data": {
      "text/plain": [
       "(1121571, 16)"
      ]
     },
     "execution_count": 3,
     "metadata": {},
     "output_type": "execute_result"
    }
   ],
   "source": [
    "data_caracteristiques.shape"
   ]
  },
  {
   "cell_type": "markdown",
   "id": "29d7b9ad-0df3-4c0b-b67d-8e9a789e8d82",
   "metadata": {},
   "source": [
    "**Enregistrement des données dans un nouveau fichier csv**"
   ]
  },
  {
   "cell_type": "code",
   "execution_count": 4,
   "id": "52b9f0b2-3b34-4bbd-9d02-da4e86bac6f5",
   "metadata": {},
   "outputs": [],
   "source": [
    "data_caracteristiques.to_csv('src/caracteristiques_2005_2021.csv', sep=';', encoding='utf-8')"
   ]
  },
  {
   "cell_type": "markdown",
   "id": "c6b349f2-c54d-4ba1-801f-467f5dcad79f",
   "metadata": {},
   "source": [
    "***\n",
    "## Ouverture et concaténation des fichiers lieux"
   ]
  },
  {
   "cell_type": "code",
   "execution_count": 5,
   "id": "9b25e7bd-4023-4234-8cc7-bc977a83d816",
   "metadata": {},
   "outputs": [],
   "source": [
    "liste_dataframes = []\n",
    "\n",
    "for i in range(2019,2022,1):\n",
    "    liste_dataframes.append(pd.read_csv(f\"src/lieux_{i}.csv\", sep=';'))\n",
    "\n",
    "for i in range(2005,2019,1):\n",
    "    liste_dataframes.append(pd.read_csv(f'src/lieux_{i}.csv', sep=',', dtype={'voie': 'str'}))\n",
    "    \n",
    "data_lieux = pd.concat(liste_dataframes, axis=0, ignore_index=True)"
   ]
  },
  {
   "cell_type": "code",
   "execution_count": 6,
   "id": "d973fe00-2ab6-44b7-b7a1-c765804e53a0",
   "metadata": {},
   "outputs": [
    {
     "name": "stdout",
     "output_type": "stream",
     "text": [
      "<class 'pandas.core.frame.DataFrame'>\n",
      "RangeIndex: 1121571 entries, 0 to 1121570\n",
      "Data columns (total 19 columns):\n",
      " #   Column   Non-Null Count    Dtype  \n",
      "---  ------   --------------    -----  \n",
      " 0   Num_Acc  1121571 non-null  int64  \n",
      " 1   catr     1121570 non-null  float64\n",
      " 2   voie     1014391 non-null  object \n",
      " 3   v1       485747 non-null   float64\n",
      " 4   v2       51369 non-null    object \n",
      " 5   circ     1119997 non-null  float64\n",
      " 6   nbv      1118840 non-null  float64\n",
      " 7   vosp     1118810 non-null  float64\n",
      " 8   prof     1119622 non-null  float64\n",
      " 9   pr       646087 non-null   object \n",
      " 10  pr1      644268 non-null   object \n",
      " 11  plan     1119290 non-null  float64\n",
      " 12  lartpc   902739 non-null   object \n",
      " 13  larrout  1008730 non-null  object \n",
      " 14  surf     1119647 non-null  float64\n",
      " 15  infra    1116163 non-null  float64\n",
      " 16  situ     1116601 non-null  float64\n",
      " 17  vma      163102 non-null   float64\n",
      " 18  env1     953029 non-null   float64\n",
      "dtypes: float64(12), int64(1), object(6)\n",
      "memory usage: 162.6+ MB\n"
     ]
    }
   ],
   "source": [
    "data_lieux.info()"
   ]
  },
  {
   "cell_type": "code",
   "execution_count": 7,
   "id": "60fd1930-36fb-427a-93b2-5f6f79aab1d4",
   "metadata": {},
   "outputs": [
    {
     "data": {
      "text/plain": [
       "(1121571, 19)"
      ]
     },
     "execution_count": 7,
     "metadata": {},
     "output_type": "execute_result"
    }
   ],
   "source": [
    "data_lieux.shape"
   ]
  },
  {
   "cell_type": "code",
   "execution_count": 8,
   "id": "c4c6f5ca-cb85-43e8-8b3d-0ab138cd1ed7",
   "metadata": {},
   "outputs": [],
   "source": [
    "data_lieux.to_csv('src/lieux_2005_2021.csv', sep=';', encoding='utf-8')"
   ]
  },
  {
   "cell_type": "markdown",
   "id": "896ab569-1cfc-4396-8663-2c2df02b22c5",
   "metadata": {},
   "source": [
    "***\n",
    "## Ouverture et concaténation des fichiers usagers"
   ]
  },
  {
   "cell_type": "code",
   "execution_count": 9,
   "id": "d051072d-d301-4dc7-9429-09a9007ec2ef",
   "metadata": {},
   "outputs": [],
   "source": [
    "liste_dataframes = []\n",
    "for i in range(2005,2019,1):\n",
    "    liste_dataframes.append(pd.read_csv(f'src/usagers_{i}.csv', sep=','))\n",
    "    \n",
    "for i in range(2019,2022,1):\n",
    "    liste_dataframes.append(pd.read_csv(f\"src/usagers_{i}.csv\", sep=';'))\n",
    "    \n",
    "data_usagers = pd.concat(liste_dataframes, axis=0, ignore_index=True)"
   ]
  },
  {
   "cell_type": "code",
   "execution_count": 10,
   "id": "abab6373-ce70-4e51-9474-60e1318c492b",
   "metadata": {},
   "outputs": [
    {
     "name": "stdout",
     "output_type": "stream",
     "text": [
      "<class 'pandas.core.frame.DataFrame'>\n",
      "RangeIndex: 2509620 entries, 0 to 2509619\n",
      "Data columns (total 16 columns):\n",
      " #   Column       Dtype  \n",
      "---  ------       -----  \n",
      " 0   Num_Acc      int64  \n",
      " 1   place        float64\n",
      " 2   catu         int64  \n",
      " 3   grav         int64  \n",
      " 4   sexe         int64  \n",
      " 5   trajet       float64\n",
      " 6   secu         float64\n",
      " 7   locp         float64\n",
      " 8   actp         object \n",
      " 9   etatp        float64\n",
      " 10  an_nais      float64\n",
      " 11  num_veh      object \n",
      " 12  id_vehicule  object \n",
      " 13  secu1        float64\n",
      " 14  secu2        float64\n",
      " 15  secu3        float64\n",
      "dtypes: float64(9), int64(4), object(3)\n",
      "memory usage: 306.4+ MB\n"
     ]
    }
   ],
   "source": [
    "data_usagers.info()"
   ]
  },
  {
   "cell_type": "code",
   "execution_count": 11,
   "id": "8f7610e0-17e0-4439-b767-b7774cb91f48",
   "metadata": {},
   "outputs": [],
   "source": [
    "data_usagers.to_csv('src/usagers_2005_2021.csv', encoding='utf-8', sep=';')"
   ]
  },
  {
   "cell_type": "markdown",
   "id": "1bd59b6d-db0e-4374-979d-ac72d75f88e6",
   "metadata": {},
   "source": [
    "***\n",
    "## Ouverture et concaténation des fichiers vehicules"
   ]
  },
  {
   "cell_type": "code",
   "execution_count": 12,
   "id": "e378e7f2-f4e2-4a79-bf8c-9b2cf431f916",
   "metadata": {},
   "outputs": [],
   "source": [
    "liste_dataframes = []\n",
    "\n",
    "for i in range(2019,2022,1):\n",
    "    liste_dataframes.append(pd.read_csv(f\"src/vehicules_{i}.csv\", sep=';'))\n",
    "    \n",
    "for i in range(2005,2019,1):\n",
    "    liste_dataframes.append(pd.read_csv(f'src/vehicules_{i}.csv', sep=','))\n",
    "\n",
    "data_vehicules = pd.concat(liste_dataframes, axis=0, ignore_index=True)"
   ]
  },
  {
   "cell_type": "code",
   "execution_count": 13,
   "id": "5f6f08ba-e5e8-490b-87ea-6508e794b6ab",
   "metadata": {},
   "outputs": [
    {
     "name": "stdout",
     "output_type": "stream",
     "text": [
      "<class 'pandas.core.frame.DataFrame'>\n",
      "RangeIndex: 1914902 entries, 0 to 1914901\n",
      "Data columns (total 11 columns):\n",
      " #   Column       Dtype  \n",
      "---  ------       -----  \n",
      " 0   Num_Acc      int64  \n",
      " 1   id_vehicule  object \n",
      " 2   num_veh      object \n",
      " 3   senc         float64\n",
      " 4   catv         int64  \n",
      " 5   obs          float64\n",
      " 6   obsm         float64\n",
      " 7   choc         float64\n",
      " 8   manv         float64\n",
      " 9   motor        float64\n",
      " 10  occutc       float64\n",
      "dtypes: float64(7), int64(2), object(2)\n",
      "memory usage: 160.7+ MB\n"
     ]
    }
   ],
   "source": [
    "data_vehicules.info()"
   ]
  },
  {
   "cell_type": "code",
   "execution_count": 14,
   "id": "5816e441-4d5c-42d0-93dd-fcaf23353686",
   "metadata": {},
   "outputs": [],
   "source": [
    "data_vehicules.to_csv('src/vehicules_2005_2021.csv', encoding='utf-8', sep=';')"
   ]
  },
  {
   "cell_type": "code",
   "execution_count": null,
   "id": "b1fcd67d-f2d5-4a9f-9f7e-d05564e8612d",
   "metadata": {},
   "outputs": [],
   "source": []
  }
 ],
 "metadata": {
  "kernelspec": {
   "display_name": "Python 3 (ipykernel)",
   "language": "python",
   "name": "python3"
  },
  "language_info": {
   "codemirror_mode": {
    "name": "ipython",
    "version": 3
   },
   "file_extension": ".py",
   "mimetype": "text/x-python",
   "name": "python",
   "nbconvert_exporter": "python",
   "pygments_lexer": "ipython3",
   "version": "3.10.9"
  }
 },
 "nbformat": 4,
 "nbformat_minor": 5
}
