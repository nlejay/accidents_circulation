{
 "cells": [
  {
   "cell_type": "markdown",
   "id": "b129ee90-7956-447f-ac30-78263c7ff941",
   "metadata": {},
   "source": [
    "# Projet Accidents corporels de la circulation routière\n",
    "\n",
    "## Auteur : Nicolas Lejay\n",
    "\n",
    "## Juin 2023\n",
    "\n",
    "***\n",
    "### A propos\n",
    "- Ce projet est réalisé à partir de fichiers regroupant les informations sur les accidents corporels de la circulation routière entre 2005 et 2021. L'Observatoire National Interministérielle de la Sécurité Routière fournit quatre fichiers par année : sur les caractéristiques de l'accident, sur le lieu, sur les véhicules impliqués et enfin sur les personnes impliquées. Ici, nous utiliserons quatres fichiers qui sont la compilations de l'ensemble des années. Ces fichiers ont également été nettoyés.\n",
    "- Pour toute information sur le jeu de données, la signification des variablmes ainsi que sur la définition donnée à « accident corporel de la circulation routière », se repporter au fichier README.md et à la notice de l'ONISR fournis dans le repository : https://github.com/nlejay/accidents_circulation\n",
    "\n",
    "***\n",
    "# 1. Importation des fichiers"
   ]
  },
  {
   "cell_type": "code",
   "execution_count": 1,
   "id": "9a55710c-fb47-47cb-b868-4a4cc9354d4e",
   "metadata": {},
   "outputs": [],
   "source": [
    "import pandas as pd\n",
    "import numpy as np\n",
    "import matplotlib.pyplot as plt\n",
    "import seaborn as sns\n",
    "import colorcet as cc\n",
    "\n",
    "# Changement de police des graphiques\n",
    "plt.rc('font', family = 'serif', serif = 'cmr10')\n",
    "plt.rcParams.update({\"text.usetex\": True, \"axes.formatter.use_mathtext\" : True})"
   ]
  },
  {
   "cell_type": "code",
   "execution_count": 2,
   "id": "266b7faa-a23f-483c-858c-3ffe8a4527ed",
   "metadata": {},
   "outputs": [],
   "source": [
    "df_caract = pd.read_csv('src/caracteristiques_net_19_06_23.csv',\n",
    "                        index_col=0,\n",
    "                        # colonnes avec plusieurs types de formats converties au format str\n",
    "                        dtype={'hrmn': 'str', 'com' : 'str', 'lat':'str', 'long':'str', 'dep':'str', 'gps':'str'})\n",
    "\n",
    "df_lieux = pd.read_csv('src/lieux_net_19_06_23.csv',\n",
    "                        index_col=0,\n",
    "                        # colonnes avec plusieurs types de formats converties au format str\n",
    "                        dtype={'voie': 'str', 'pr' : 'str', 'pr1':'str', 'larrout':'str', 'lartpc':'str'})\n",
    "\n",
    "df_usagers = pd.read_csv('src/usagers_net_19_06_23.csv',\n",
    "                         index_col=0,\n",
    "                         # colonnes avec plusieurs types de formats converties au format str\n",
    "                         dtype={'actp':'str', 'id_vehicule':'str'})\n",
    "                         \n",
    "df_veh = pd.read_csv('src/vehicules_net_19_06_23.csv',\n",
    "                     index_col=0,\n",
    "                     # colonnes avec plusieurs types de formats converties au format str\n",
    "                     dtype={'id_vehicule':'str'})"
   ]
  },
  {
   "cell_type": "markdown",
   "id": "c4ff6b4c-b986-4a69-983c-3b1508196fd4",
   "metadata": {},
   "source": [
    "**Dataframe *df_caract***"
   ]
  },
  {
   "cell_type": "code",
   "execution_count": 3,
   "id": "ee373d34-d928-4507-b038-b05f1737b244",
   "metadata": {},
   "outputs": [
    {
     "data": {
      "text/html": [
       "<div>\n",
       "<style scoped>\n",
       "    .dataframe tbody tr th:only-of-type {\n",
       "        vertical-align: middle;\n",
       "    }\n",
       "\n",
       "    .dataframe tbody tr th {\n",
       "        vertical-align: top;\n",
       "    }\n",
       "\n",
       "    .dataframe thead th {\n",
       "        text-align: right;\n",
       "    }\n",
       "</style>\n",
       "<table border=\"1\" class=\"dataframe\">\n",
       "  <thead>\n",
       "    <tr style=\"text-align: right;\">\n",
       "      <th></th>\n",
       "      <th>Num_Acc</th>\n",
       "      <th>jour</th>\n",
       "      <th>mois</th>\n",
       "      <th>an</th>\n",
       "      <th>hrmn</th>\n",
       "      <th>lum</th>\n",
       "      <th>dep</th>\n",
       "      <th>com</th>\n",
       "      <th>agg</th>\n",
       "      <th>int</th>\n",
       "      <th>atm</th>\n",
       "      <th>col</th>\n",
       "      <th>adr</th>\n",
       "      <th>lat</th>\n",
       "      <th>long</th>\n",
       "    </tr>\n",
       "  </thead>\n",
       "  <tbody>\n",
       "    <tr>\n",
       "      <th>0</th>\n",
       "      <td>201900000001</td>\n",
       "      <td>30</td>\n",
       "      <td>11</td>\n",
       "      <td>2019</td>\n",
       "      <td>01:30</td>\n",
       "      <td>4.0</td>\n",
       "      <td>93</td>\n",
       "      <td>93053</td>\n",
       "      <td>1</td>\n",
       "      <td>1.0</td>\n",
       "      <td>1.0</td>\n",
       "      <td>2.0</td>\n",
       "      <td>AUTOROUTE A3</td>\n",
       "      <td>48.8962100</td>\n",
       "      <td>2.4701200</td>\n",
       "    </tr>\n",
       "    <tr>\n",
       "      <th>1</th>\n",
       "      <td>201900000002</td>\n",
       "      <td>30</td>\n",
       "      <td>11</td>\n",
       "      <td>2019</td>\n",
       "      <td>02:50</td>\n",
       "      <td>3.0</td>\n",
       "      <td>93</td>\n",
       "      <td>93066</td>\n",
       "      <td>1</td>\n",
       "      <td>1.0</td>\n",
       "      <td>1.0</td>\n",
       "      <td>6.0</td>\n",
       "      <td>AUTOROUTE A1</td>\n",
       "      <td>48.9307000</td>\n",
       "      <td>2.3688000</td>\n",
       "    </tr>\n",
       "    <tr>\n",
       "      <th>2</th>\n",
       "      <td>201900000003</td>\n",
       "      <td>28</td>\n",
       "      <td>11</td>\n",
       "      <td>2019</td>\n",
       "      <td>15:15</td>\n",
       "      <td>1.0</td>\n",
       "      <td>92</td>\n",
       "      <td>92036</td>\n",
       "      <td>1</td>\n",
       "      <td>1.0</td>\n",
       "      <td>1.0</td>\n",
       "      <td>4.0</td>\n",
       "      <td>AUTOROUTE A86</td>\n",
       "      <td>48.9358718</td>\n",
       "      <td>2.3191744</td>\n",
       "    </tr>\n",
       "    <tr>\n",
       "      <th>3</th>\n",
       "      <td>201900000004</td>\n",
       "      <td>30</td>\n",
       "      <td>11</td>\n",
       "      <td>2019</td>\n",
       "      <td>20:20</td>\n",
       "      <td>5.0</td>\n",
       "      <td>94</td>\n",
       "      <td>94069</td>\n",
       "      <td>1</td>\n",
       "      <td>1.0</td>\n",
       "      <td>1.0</td>\n",
       "      <td>4.0</td>\n",
       "      <td>A4</td>\n",
       "      <td>48.8173295</td>\n",
       "      <td>2.4281502</td>\n",
       "    </tr>\n",
       "    <tr>\n",
       "      <th>4</th>\n",
       "      <td>201900000005</td>\n",
       "      <td>30</td>\n",
       "      <td>11</td>\n",
       "      <td>2019</td>\n",
       "      <td>04:00</td>\n",
       "      <td>3.0</td>\n",
       "      <td>94</td>\n",
       "      <td>94028</td>\n",
       "      <td>1</td>\n",
       "      <td>1.0</td>\n",
       "      <td>1.0</td>\n",
       "      <td>2.0</td>\n",
       "      <td>A86 INT</td>\n",
       "      <td>48.7763620</td>\n",
       "      <td>2.4332540</td>\n",
       "    </tr>\n",
       "  </tbody>\n",
       "</table>\n",
       "</div>"
      ],
      "text/plain": [
       "        Num_Acc  jour  mois    an   hrmn  lum dep    com  agg  int  atm  col  \\\n",
       "0  201900000001    30    11  2019  01:30  4.0  93  93053    1  1.0  1.0  2.0   \n",
       "1  201900000002    30    11  2019  02:50  3.0  93  93066    1  1.0  1.0  6.0   \n",
       "2  201900000003    28    11  2019  15:15  1.0  92  92036    1  1.0  1.0  4.0   \n",
       "3  201900000004    30    11  2019  20:20  5.0  94  94069    1  1.0  1.0  4.0   \n",
       "4  201900000005    30    11  2019  04:00  3.0  94  94028    1  1.0  1.0  2.0   \n",
       "\n",
       "             adr         lat       long  \n",
       "0   AUTOROUTE A3  48.8962100  2.4701200  \n",
       "1   AUTOROUTE A1  48.9307000  2.3688000  \n",
       "2  AUTOROUTE A86  48.9358718  2.3191744  \n",
       "3             A4  48.8173295  2.4281502  \n",
       "4        A86 INT  48.7763620  2.4332540  "
      ]
     },
     "execution_count": 3,
     "metadata": {},
     "output_type": "execute_result"
    }
   ],
   "source": [
    "df_caract.head()"
   ]
  },
  {
   "cell_type": "code",
   "execution_count": 4,
   "id": "d3ec0344-de62-4d6b-998c-ae1b8283acf0",
   "metadata": {},
   "outputs": [
    {
     "name": "stdout",
     "output_type": "stream",
     "text": [
      "<class 'pandas.core.frame.DataFrame'>\n",
      "Int64Index: 1121571 entries, 0 to 1121570\n",
      "Data columns (total 15 columns):\n",
      " #   Column   Non-Null Count    Dtype  \n",
      "---  ------   --------------    -----  \n",
      " 0   Num_Acc  1121571 non-null  int64  \n",
      " 1   jour     1121571 non-null  int64  \n",
      " 2   mois     1121571 non-null  int64  \n",
      " 3   an       1121571 non-null  int64  \n",
      " 4   hrmn     1121571 non-null  object \n",
      " 5   lum      1121566 non-null  float64\n",
      " 6   dep      1121571 non-null  object \n",
      " 7   com      1121569 non-null  object \n",
      " 8   agg      1121571 non-null  int64  \n",
      " 9   int      1121463 non-null  float64\n",
      " 10  atm      1121477 non-null  float64\n",
      " 11  col      1120015 non-null  float64\n",
      " 12  adr      978295 non-null   object \n",
      " 13  lat      634503 non-null   object \n",
      " 14  long     634499 non-null   object \n",
      "dtypes: float64(4), int64(5), object(6)\n",
      "memory usage: 136.9+ MB\n"
     ]
    }
   ],
   "source": [
    "df_caract.info()"
   ]
  },
  {
   "cell_type": "markdown",
   "id": "6b62db7f-7bc9-4eff-bf11-c5fd2c194aa4",
   "metadata": {},
   "source": [
    "**Dataframe *df_lieux***"
   ]
  },
  {
   "cell_type": "code",
   "execution_count": null,
   "id": "b9cdc210-7bc9-4a70-b225-5a6a71ef9150",
   "metadata": {},
   "outputs": [],
   "source": [
    "df_lieux.head()"
   ]
  },
  {
   "cell_type": "code",
   "execution_count": null,
   "id": "2e7d6997-20af-44b9-a736-37851da7c2eb",
   "metadata": {},
   "outputs": [],
   "source": [
    "df_lieux.info()"
   ]
  },
  {
   "cell_type": "markdown",
   "id": "032801de-6753-4e30-bdd9-925b0e68bdba",
   "metadata": {},
   "source": [
    "**dataframe *df_usagers***"
   ]
  },
  {
   "cell_type": "code",
   "execution_count": null,
   "id": "8ad85510-159b-4145-8c88-98743ba95756",
   "metadata": {},
   "outputs": [],
   "source": [
    "df_usagers.head()"
   ]
  },
  {
   "cell_type": "code",
   "execution_count": null,
   "id": "01cb0694-5729-4efd-a7fe-9c5bf5c0e3ef",
   "metadata": {},
   "outputs": [],
   "source": [
    "df_usagers.info()"
   ]
  },
  {
   "cell_type": "markdown",
   "id": "8419af2d-5a4b-4aba-a695-ab3cc57117c1",
   "metadata": {},
   "source": [
    "On remarque plus d'observations que dans les deux dataframes précédents. C'est normal : un accident peut impliquer une ou plusieurs personnes.\n",
    "\n",
    "**Dataframe *df_veh***"
   ]
  },
  {
   "cell_type": "code",
   "execution_count": null,
   "id": "801307f8-1c04-44f6-9335-bf7a68779749",
   "metadata": {},
   "outputs": [],
   "source": [
    "df_veh.head()"
   ]
  },
  {
   "cell_type": "code",
   "execution_count": null,
   "id": "564e16f1-5a58-48b3-bc5f-6dd0d1e95cc7",
   "metadata": {},
   "outputs": [],
   "source": [
    "df_veh.info()"
   ]
  },
  {
   "cell_type": "markdown",
   "id": "aa12828e-8acf-47a2-a3d5-d96baab34a5b",
   "metadata": {},
   "source": [
    "Là-aussi, un accident implique souvent plusieurs véhicules. Nous avons donc plus de lignes dans ce dataframe que dans celui sur les accidents.\n",
    "\n",
    "***\n",
    "# 2.Étude temporelle\n",
    "## 2.1. Évolution du nombre d'accidents, de morts et de blessés chaque année\n",
    "### 2.1.1. Évolution du nombre et variation en pourcentage\n",
    "\n",
    "1 121 571 accidents répertoriés sur 17 ans, soit une moyenne de 65975 par an. Mais comment a évolué le nombre d'accidents corporels sur la période 2005-2017 ? Et comment ont évolué le nombre de morts et de blessés ?"
   ]
  },
  {
   "cell_type": "code",
   "execution_count": null,
   "id": "e6ba2019-9f3e-45e0-b02d-dfaebc45b232",
   "metadata": {},
   "outputs": [],
   "source": [
    "# Calcul du nombre d'accidents par an\n",
    "acc_par_an = (df_caract\n",
    "              .groupby('an')\n",
    "              .agg(Effectif = pd.NamedAgg('Num_Acc','count'))\n",
    "              .reset_index())\n",
    "\n",
    "#Calcul de la variation annuelle\n",
    "acc_par_an['var_pourc'] = acc_par_an['Effectif'].pct_change() * 100\n",
    "\n",
    "acc_par_an.transpose()"
   ]
  },
  {
   "cell_type": "code",
   "execution_count": null,
   "id": "d08b1e71-8ecd-4f07-a6c6-1b041529dd74",
   "metadata": {},
   "outputs": [],
   "source": [
    "fig, (ax1, ax2) = plt.subplots(2,1,figsize=(8,6))\n",
    "ax1.plot(acc_par_an['an'], acc_par_an['Effectif'], color=\"tab:blue\")\n",
    "ax1.set_ylim(0,90000)\n",
    "ax1.set_xticks([i for i in range(2005,2022,2)], [i for i in range(2005,2022,2)])\n",
    "ax1.set_xlabel('Année', size=12)\n",
    "ax1.set_ylabel(\"Nombre d'accidents\", size=12)\n",
    "ax1.set_title(\"Evolution du nombre d'accidents corporels de la circulation routière sur la période 2005-2021\", size=12, y=1.02)\n",
    "ax1.grid(visible=True, axis='y', color=\"#e0e0e0\")\n",
    "\n",
    "\n",
    "couleurs = [\"crimson\" if acc_par_an.iloc[i,2]>0 else \"darkgreen\" for i in range(len(acc_par_an))]\n",
    "ax2.bar(acc_par_an['an'], acc_par_an['var_pourc'], color=couleurs)\n",
    "ax2.set_xlabel('Année', size=12)\n",
    "ax2.set_xlim(2004,2022)\n",
    "ax2.set_ylabel(\"Variation en pourcentage\", size=12)\n",
    "ax2.set_ylim(-20,20)\n",
    "ax2.set_xticks([i for i in range(2005,2022,2)], [i for i in range(2005,2022,2)])\n",
    "ax2.set_yticks([i for i in range(-20,25,5)], [i for i in range(-20,25,5)])\n",
    "ax2.grid(visible=True, axis='y', color=\"#e0e0e0\")\n",
    "ax2.set_title(\"Variation annuelle en pourcentage du nombre d'accidents corporels de la circulation routière sur la période 2005-2021\", size=12, y=1.02)\n",
    "ax2.set_axisbelow(True)\n",
    "ax2.hlines(0,2004,2022, color='black', linewidth=0.5)\n",
    "\n",
    "sns.despine()\n",
    "plt.tight_layout()\n",
    "plt.show()"
   ]
  },
  {
   "cell_type": "markdown",
   "id": "48d6a0a0-d1c6-4426-8756-6006fc9b544f",
   "metadata": {},
   "source": [
    "On observe une baisse de 2005 à 2013 puis une stabilisation autour de 60 000 accidents par an. Pour l'année 2020, la chute est sûrement due aux confinents pendant l'épidémie de COVID-19. On remarque d'ailleurs une hausse en 2021 qui ramène quasiment au niveau pré-2020.\n",
    "\n",
    "Concentrons-nous maintenant sur le nombre de morts et de blessés. Pour cela, une jointure entre *df_caract* et *df_usagers* est nécessaire cr l'année n'est renseignée que dans *df_caract*."
   ]
  },
  {
   "cell_type": "code",
   "execution_count": null,
   "id": "037f6346-8cda-493a-b2b7-53400582af42",
   "metadata": {},
   "outputs": [],
   "source": [
    "# Calcul du nombre de morts et blessés de chaque type chaque année\n",
    "gravite_par_an = (df_usagers[['Num_Acc','grav']]\n",
    "                  .merge(df_caract[['Num_Acc', 'an']], how='inner', left_on='Num_Acc', right_on='Num_Acc')\n",
    "                  .pivot_table(index='an', columns='grav', values='Num_Acc', aggfunc='count')\n",
    "                  .rename(columns={1:'Indemne',\n",
    "                                    2:'Tué',\n",
    "                                    3:'Hospitalisé',\n",
    "                                    4:'Bléssé léger'})\n",
    "                 )\n",
    "\n",
    "gravite_par_an.transpose().head()"
   ]
  },
  {
   "cell_type": "code",
   "execution_count": null,
   "id": "a12be89d-a903-49a2-8c70-67e9b67629b7",
   "metadata": {},
   "outputs": [],
   "source": [
    "# Calcul de la variation annuelle en pourcentage\n",
    "var_gravite_par_an = round(gravite_par_an.pct_change()*100, 1)\n",
    "var_gravite_par_an.transpose()"
   ]
  },
  {
   "cell_type": "code",
   "execution_count": null,
   "id": "80fa1a4f-bf39-4af8-a8fa-289dfd19981c",
   "metadata": {},
   "outputs": [],
   "source": [
    "grav_par_an_long = gravite_par_an.unstack().reset_index().rename(columns={0:'Effectif'})\n",
    "morts_par_an = grav_par_an_long.loc[grav_par_an_long['grav']=='Tué']\n",
    "pd.options.mode.chained_assignment = None\n",
    "morts_par_an['var_pourc'] = morts_par_an['Effectif'].pct_change()*100\n",
    "\n",
    "fig, (ax1, ax2) = plt.subplots(2,1,figsize=(8,6))\n",
    "ax1.plot(morts_par_an['an'], morts_par_an['Effectif'], color=\"tab:blue\")\n",
    "ax1.set_ylim(0,6000)\n",
    "ax1.set_xticks([i for i in range(2005,2022,2)], [i for i in range(2005,2022,2)])\n",
    "ax1.set_xlabel('Année', size=12)\n",
    "ax1.set_ylabel(\"Nombre de morts\", size=12)\n",
    "ax1.set_title(\"Evolution du nombre de morts d'un accident de la circulation routière sur la période 2005-2021\", size=12, y=1.02)\n",
    "ax1.grid(visible=True, axis='y', color=\"#e0e0e0\")\n",
    "\n",
    "\n",
    "couleurs = [\"crimson\" if morts_par_an.iloc[i,3]>0 else \"darkgreen\" for i in range(len(morts_par_an))]\n",
    "ax2.bar(morts_par_an['an'], morts_par_an['var_pourc'], color=couleurs)\n",
    "ax2.set_xlabel('Année', size=12)\n",
    "ax2.set_xlim(2004,2022)\n",
    "ax2.set_ylabel(\"Variation en pourcentage\", size=12)\n",
    "ax2.set_ylim(-25,20)\n",
    "ax2.set_xticks([i for i in range(2005,2022,2)], [i for i in range(2005,2022,2)])\n",
    "ax2.set_yticks([i for i in range(-20,25,5)], [i for i in range(-20,25,5)])\n",
    "ax2.grid(visible=True, axis='y', color=\"#e0e0e0\")\n",
    "ax2.set_title(\"Variation annuelle en pourcentage du nombre de morts d'accidents de la circulation routière sur la période 2005-2021\", size=12, y=1.02)\n",
    "ax2.set_axisbelow(True)\n",
    "ax2.hlines(0,2004,2022, color='black', linewidth=0.5)\n",
    "\n",
    "sns.despine()\n",
    "plt.tight_layout()\n",
    "plt.show()"
   ]
  },
  {
   "cell_type": "code",
   "execution_count": null,
   "id": "fcbfcc71-9dd0-4d81-8606-3f7d5feb7b87",
   "metadata": {},
   "outputs": [],
   "source": [
    "hosp_par_an = grav_par_an_long.loc[grav_par_an_long['grav']=='Hospitalisé']\n",
    "hosp_par_an['var_pourc'] = hosp_par_an['Effectif'].pct_change()*100\n",
    "\n",
    "fig, (ax1, ax2) = plt.subplots(2,1,figsize=(8,6))\n",
    "ax1.plot(hosp_par_an['an'], hosp_par_an['Effectif'], color=\"tab:blue\")\n",
    "ax1.set_ylim(0,42000)\n",
    "ax1.set_xticks([i for i in range(2005,2022,2)], [i for i in range(2005,2022,2)])\n",
    "ax1.set_xlabel('Année', size=12)\n",
    "ax1.set_ylabel(\"Nombre de blessés hospitalisés\", size=12)\n",
    "ax1.set_title(\"Evolution du nombre de blessés hospitalisés suite à un accident de la circulation routière sur la période 2005-2021\", size=12, y=1.02)\n",
    "ax1.grid(visible=True, axis='y', color=\"#e0e0e0\")\n",
    "\n",
    "\n",
    "couleurs = [\"crimson\" if hosp_par_an.iloc[i,3]>0 else \"darkgreen\" for i in range(len(hosp_par_an))]\n",
    "ax2.bar(hosp_par_an['an'], hosp_par_an['var_pourc'], color=couleurs)\n",
    "ax2.set_xlabel('Année', size=12)\n",
    "ax2.set_xlim(2004,2022)\n",
    "ax2.set_ylabel(\"Variation en pourcentage\", size=12)\n",
    "ax2.set_ylim(-20,20)\n",
    "ax2.set_xticks([i for i in range(2005,2022,2)], [i for i in range(2005,2022,2)])\n",
    "ax2.set_yticks([i for i in range(-25,25,5)], [i for i in range(-25,25,5)])\n",
    "ax2.grid(visible=True, axis='y', color=\"#e0e0e0\")\n",
    "ax2.set_title(\"Variation annuelle en pourcentage du nombre de blesssés hospitalisés suite à un accident de la circulation routière sur la période 2005-2021\", size=12, y=1.02)\n",
    "ax2.set_axisbelow(True)\n",
    "ax2.hlines(0,2004,2022, color='black', linewidth=0.5)\n",
    "\n",
    "sns.despine()\n",
    "plt.tight_layout()\n",
    "plt.show()"
   ]
  },
  {
   "cell_type": "code",
   "execution_count": null,
   "id": "405e7305-1152-4a4b-b327-26f25e37d6ad",
   "metadata": {},
   "outputs": [],
   "source": [
    "df_var_pourc = pd.concat([acc_par_an.set_index('an')['var_pourc'], morts_par_an.set_index('an')['var_pourc'], hosp_par_an.set_index('an')['var_pourc']], axis=1, keys=['acc', 'morts', 'hosp'])\n",
    "df_var_pourc = (df_var_pourc\n",
    "                .stack()\n",
    "                .reset_index(level=1)\n",
    "                .rename(columns ={'level_1':'categorie', 0:'var_pourc'})\n",
    "               )\n",
    "df_var_pourc.head()"
   ]
  },
  {
   "cell_type": "code",
   "execution_count": null,
   "id": "85f413ec-b4c9-438e-aaf6-96d2dbd3a7f8",
   "metadata": {},
   "outputs": [],
   "source": [
    "fig, ax = plt.subplots(figsize=(12,6))\n",
    "\n",
    "sns.barplot(x='an', y='var_pourc', data=df_var_pourc.reset_index(), hue='categorie', ax=ax)\n",
    "plt.hlines(0,-1,17, color='black', linewidth=0.5)\n",
    "plt.title(\"Comparaison des variations annuelles du nombre d'accidents, de morts et d'hospitalisés\", size=12)\n",
    "plt.xlabel(\"Année\", size=12)\n",
    "plt.ylabel(\"Variation en pourcentage\", size=12)\n",
    "plt.grid(visible=True, axis='y', color=\"#e0e0e0\")\n",
    "ax.set_axisbelow(True)\n",
    "plt.show()"
   ]
  },
  {
   "cell_type": "markdown",
   "id": "4f90e195-dd35-4197-a1eb-3249958f047e",
   "metadata": {},
   "source": [
    "Le nombre de blessés hospitalisés et le nombre de morts ont à peu près suivi la même évolution que le nombre d'accidents. On remarque néanmoins une nette différence en 2018 et 2019 entre la variation du nombre d'accidents et celle du nombre d'hospitalisés.\n",
    "\n",
    "\n",
    "On peut vérifier s'il y a corrélation linéaire entre nombre de morts (resp. d'hospitalisés) et nombre d'accidents. Ce n'est pas a priori évident car les améliorations d'équipements de sécurité des véhicules ainsi que des aménagements routiers pourraient faire chuter le nombre de morts ou de blessés graves plus vite que le nombre d'accidents.\n",
    "\n",
    "### 2.1.2. Y-a-t-il eu corélation entre nombre de morts (resp. de blessés hospitalisés) et le nombre d'accidents entre 2005 et 2021 ?\n",
    "\n",
    "- **Corrélation nombre de morts/nombre d'accidents**"
   ]
  },
  {
   "cell_type": "code",
   "execution_count": null,
   "id": "aa9ad7e9-5af8-4af7-910f-169d4dc884f8",
   "metadata": {},
   "outputs": [],
   "source": [
    "morts_vs_acc = pd.DataFrame(acc_par_an['Effectif']).rename(columns={'Effectif':'Accidents'})\n",
    "morts_vs_acc['Morts'] = morts_par_an['Effectif'].reset_index(drop=True)\n",
    "\n",
    "fig, ax = plt.subplots(figsize=(6,4))\n",
    "\n",
    "sns.regplot(x='Accidents', y='Morts', data=morts_vs_acc, ci=None, line_kws={'color':'red'})\n",
    "plt.xlabel(\"Nombre d'accidents\", size=12)\n",
    "plt.ylabel(\"Nombre de morts\", size=12)\n",
    "plt.title(\"Nombre de morts suivant le nombre d'accidents corporels de la circulation routière\", size=12)\n",
    "\n",
    "plt.show()"
   ]
  },
  {
   "cell_type": "markdown",
   "id": "c2932f4e-c72f-4d57-8a2c-e9b432446406",
   "metadata": {},
   "source": [
    "Il semble y avoir une corrélation linéaire entre les deux variables. Regardons la normalité des deux variables."
   ]
  },
  {
   "cell_type": "code",
   "execution_count": null,
   "id": "66f70e67-d093-45a8-91d3-9cbaf1c11629",
   "metadata": {},
   "outputs": [],
   "source": [
    "import pingouin\n",
    "\n",
    "fig, ((ax1, ax2)) = plt.subplots(1,2, figsize=(10,4))\n",
    "pingouin.qqplot(morts_vs_acc['Accidents'], dist='norm', color='tab:blue', ax=ax1)\n",
    "ax1.set_title('Morts')\n",
    "pingouin.qqplot(morts_vs_acc['Morts'], dist='norm', color='tab:blue', ax=ax2)\n",
    "ax2.set_title('Accidents')\n",
    "plt.suptitle('Comparaison de la distribution des variables à une distribution normale')\n",
    "fig.tight_layout()\n",
    "plt.show()"
   ]
  },
  {
   "cell_type": "markdown",
   "id": "0d02faed-3dc7-4037-8550-6ef116e05bfe",
   "metadata": {},
   "source": [
    "Les variables ne suivent pas une distribution normale. Nous allons faire un test de corrélation de Spearman :\n",
    "- Hypothèse nulle $H_0$ : pas de corrélation entre les variables (coefficient de corrélation nul)\n",
    "- Hypothèse alternative $H_1$ : corrélation positive (coefficient de corrélation positif et significativement différent de 0) -> test unilatéral\n",
    "- Seuil de signification $\\alpha=0,05$"
   ]
  },
  {
   "cell_type": "code",
   "execution_count": null,
   "id": "cdc2c877-403f-4b9a-a6d3-d71efb8a0eef",
   "metadata": {},
   "outputs": [],
   "source": [
    "pingouin.corr(morts_vs_acc['Morts'], morts_vs_acc['Accidents'], alternative='greater', method='spearman')"
   ]
  },
  {
   "cell_type": "markdown",
   "id": "dffcbefc-f8db-446a-8f5c-e49cfcd9e0f6",
   "metadata": {},
   "source": [
    "Le test de Spearman indique que les deux variables sont significativement corrélées ($\\small p<0.0001^{***}$). La corrélation est très forte : $\\small\\rho = 0,97$.\n",
    "\n",
    "- **Corrélation nombre d'hospitalisés/nombre d'accidents**"
   ]
  },
  {
   "cell_type": "code",
   "execution_count": null,
   "id": "b78cb7a3-2868-409c-bbe5-3b11481eff0f",
   "metadata": {},
   "outputs": [],
   "source": [
    "# Dataframe hospitalisés vs accidents\n",
    "hosp_vs_acc = pd.DataFrame(acc_par_an['Effectif']).rename(columns={'Effectif':'Accidents'})\n",
    "hosp_vs_acc['Hospitalisés'] = hosp_par_an['Effectif'].reset_index(drop=True)"
   ]
  },
  {
   "cell_type": "code",
   "execution_count": null,
   "id": "f1ebef68-e876-4125-ba94-f951b2283976",
   "metadata": {},
   "outputs": [],
   "source": [
    "fig, ax = plt.subplots(figsize=(6,4))\n",
    "\n",
    "sns.regplot(x=acc_par_an['Effectif'], y=hosp_par_an['Effectif'], ci=None, line_kws={'color':'red'})\n",
    "plt.xlabel(\"Nombre d'accidents\", size=12)\n",
    "plt.ylabel(\"Nombre d'hospitalisés\", size=12)\n",
    "plt.title(\"Nombre de blessés hospitalisés suivant le nombre d'accidents corporels de la circulation routière\", size=12)\n",
    "\n",
    "plt.show()"
   ]
  },
  {
   "cell_type": "markdown",
   "id": "f97b60eb-4532-40d6-9c84-b23fb92fb0ad",
   "metadata": {},
   "source": [
    "Il semble y avoir une bonne corrélation positive entre les deux variables. On sait que le nombre d'accidents ne suit pas une distribution normale donc faisons un test de corrélation de Spearman :\n",
    "\n",
    "- Hypothèse nulle $H_0$ : pas de corrélation entre les variables (coefficient de corrélation nul)\n",
    "- Hypothèse alternative $H_1$ : corrélation positive (coefficient de corrélation positif et significativement différent de 0) -> test unilatéral\n",
    "- Seuil de signification $\\alpha=0,05$"
   ]
  },
  {
   "cell_type": "code",
   "execution_count": null,
   "id": "1b7b3442-8d69-4002-8c0d-cd09fab7d421",
   "metadata": {},
   "outputs": [],
   "source": [
    "pingouin.corr(hosp_vs_acc['Hospitalisés'], hosp_vs_acc['Accidents'], alternative='greater', method='spearman')"
   ]
  },
  {
   "cell_type": "markdown",
   "id": "64076bca-f611-4169-a344-cee6503596b0",
   "metadata": {},
   "source": [
    "Le test de Spearman indique que les deux variables sont significativement corrélées ($\\small p<0.0001^{***}$). La corrélation est très forte : $\\small\\rho = 0,96$."
   ]
  },
  {
   "cell_type": "markdown",
   "id": "e5d31d20-6bc1-4ec7-b910-36529439ecfe",
   "metadata": {},
   "source": [
    "### 2.1.2. Les proportions de blessés légers, hospitalisés et morts restent-ils constants au fil des années ?"
   ]
  },
  {
   "cell_type": "code",
   "execution_count": null,
   "id": "b256045c-ea5a-4b97-9fb7-bd9d1b755795",
   "metadata": {},
   "outputs": [],
   "source": [
    "pourc_par_grav = gravite_par_an.divide(gravite_par_an.sum(axis=1), axis=0)*100\n",
    "pourc_par_grav"
   ]
  },
  {
   "cell_type": "code",
   "execution_count": null,
   "id": "f034d7b9-b757-48ba-9b36-fe24fbed1764",
   "metadata": {},
   "outputs": [],
   "source": [
    "fig,ax = plt.subplots(figsize=(8,4))\n",
    "plt.stackplot(pourc_par_grav.index, pourc_par_grav.transpose(), labels=pourc_par_grav.columns, cmap='tab10')\n",
    "\n",
    "#Mise en forme des axes, titre et légende\n",
    "plt.title('Evolution du pourcentage de blessés de chaque type parmi les personnes impliquées dans un accident corporel de la circulation', fontsize=14)\n",
    "plt.xlabel('Année', fontsize=12)\n",
    "plt.ylabel('Pourcentage', fontsize=12)\n",
    "plt.xticks(fontsize=12)\n",
    "plt.yticks(fontsize=12)\n",
    "plt.legend(title='Type de blessé', bbox_to_anchor=[1.3,1], fontsize=10, title_fontsize=11)\n",
    "plt.show()"
   ]
  },
  {
   "cell_type": "markdown",
   "id": "03c3e678-7765-4f58-810d-46f3ecf588a5",
   "metadata": {},
   "source": [
    "Les proportions restent à peu près les mêmes à part une baisse du pourcentage d'hospitalisés au profit du pourcentage de blessés légers entre 2017 et 2019."
   ]
  },
  {
   "cell_type": "markdown",
   "id": "5d907e5a-b61b-4b20-b6f3-2b0e7f1b054f",
   "metadata": {},
   "source": [
    "## 2.2 Existe-t-il des mois plus accidentogènes que d'autres ?\n",
    "\n",
    "### 2.2.1. Calcul du nombre moyen d'accidents pour chaque mois de l'année sur la période 2005-2017\n",
    "\n",
    "L'année 2020 étabnt particulière avec des mois de confinement, elle est retirée de cette partie de l'étude."
   ]
  },
  {
   "cell_type": "code",
   "execution_count": null,
   "id": "668fec55-b3c1-4666-adbf-deffaf1a0e12",
   "metadata": {},
   "outputs": [],
   "source": [
    "# Nombre d'accidents par année et par mois\n",
    "acc_par_mois = (df_caract.loc[df_caract['an']!=2020]\n",
    "                .groupby(['an','mois'])\n",
    "                .agg(Effectif = pd.NamedAgg('Num_Acc','count'))\n",
    "                .reset_index())\n",
    "acc_par_mois.head()"
   ]
  },
  {
   "cell_type": "code",
   "execution_count": null,
   "id": "f53852a3-b03e-4e62-8e0e-3a799046c0b4",
   "metadata": {},
   "outputs": [],
   "source": [
    "acc_par_mois['Effectif'].describe()"
   ]
  },
  {
   "cell_type": "code",
   "execution_count": null,
   "id": "cce891b3-9250-4bd1-a522-096013cb37e9",
   "metadata": {},
   "outputs": [],
   "source": [
    "fig, ax= plt.subplots(figsize=(6,4))\n",
    "sns.histplot(x='Effectif', data=acc_par_mois, bins=40)\n",
    "plt.xlabel(\"Nombre d'accidents\")\n",
    "plt.ylabel(\"Nombre de mois\")\n",
    "plt.title(\"Distribution du nombre d'accidents mensuel\")\n",
    "plt.show()"
   ]
  },
  {
   "cell_type": "code",
   "execution_count": null,
   "id": "94a0b62f-34e5-45c6-a16d-ebb35452def5",
   "metadata": {},
   "outputs": [],
   "source": [
    "# Moyenne par mois\n",
    "moy_par_mois = (acc_par_mois\n",
    "                .groupby('mois')\n",
    "                .agg(moyenne = pd.NamedAgg('Effectif','mean'),\n",
    "                     mediane = pd.NamedAgg('Effectif','median'),\n",
    "                     variance = pd.NamedAgg('Effectif','var'),\n",
    "                     std = pd.NamedAgg('Effectif','std'))\n",
    "                .reset_index()\n",
    "               )\n",
    "moy_par_mois"
   ]
  },
  {
   "cell_type": "code",
   "execution_count": null,
   "id": "82fcb3a2-f4f7-4ae0-8e66-db26eec2f9c9",
   "metadata": {},
   "outputs": [],
   "source": [
    "# Représentation graphique du nombre d'accidents moyen par mois de l'année\n",
    "\n",
    "fig, ax = plt.subplots(figsize=(8,4))\n",
    "sns.barplot(x='mois', y='Effectif', data= acc_par_mois, color='tab:blue', errorbar='sd')\n",
    "plt.ylim(0,8000)\n",
    "plt.xlabel('Mois', size=12)\n",
    "plt.ylabel(\"Nombre moyen d'accidents\", size=12)\n",
    "plt.xticks([i for i in range(12)], [\"Janv\", \"Fév\", \"Mars\", \"Avr\", \"Mai\", \"Juin\", \"Juil\", \"Août\", \"Sept\", \"Oct\", \"Nov\", \"Déc\"], rotation=45)\n",
    "plt.grid(visible=True, axis='y', color=\"#e0e0e0\")\n",
    "plt.title(\"Nombre moyen d'accidents et écart-type pour chaque mois de l'année sur la période 2005-2021 (hors 2020)\", size=12)\n",
    "ax.set_axisbelow(True)\n",
    "plt.show()"
   ]
  },
  {
   "cell_type": "code",
   "execution_count": null,
   "id": "77992e29-5515-41e0-bbcc-09d393a98156",
   "metadata": {},
   "outputs": [],
   "source": [
    "# boxplot du nombre d'accidents par mois de l'année\n",
    "\n",
    "fig, ax = plt.subplots(figsize=(8,4))\n",
    "sns.boxplot(x='mois', y='Effectif', data= acc_par_mois, color='tab:blue', whis=[0,100])\n",
    "plt.xlabel('Mois', size=12)\n",
    "plt.ylabel(\"Nombre d'accidents\", size=12)\n",
    "plt.xticks([i for i in range(12)], [\"Janv\", \"Fév\", \"Mars\", \"Avr\", \"Mai\", \"Juin\", \"Juil\", \"Août\", \"Sept\", \"Oct\", \"Nov\", \"Déc\"], rotation=45)\n",
    "plt.grid(visible=True, axis='y', color=\"#e0e0e0\")\n",
    "plt.title(\"Diagrammes en boîte du nombre d'accidents pour chaque mois de l'année sur la période 2005-2021 (hors 2020)\", size=12)\n",
    "ax.set_axisbelow(True)\n",
    "plt.show()"
   ]
  },
  {
   "cell_type": "markdown",
   "id": "b144a82c-3f98-4bcc-ba2f-177097f3a476",
   "metadata": {},
   "source": [
    "On remarque que les mois de juin, septembre et octobre ont été les plus accidentogènes, février étant le mois le moins accidentogène. Mais ces différence sont-elles significatives ? Pour répondre, nous pouvons voir s'il est possible de réaliser une ANOVA.\n",
    "\n",
    "### 2.2.2. ANOVA"
   ]
  },
  {
   "cell_type": "code",
   "execution_count": null,
   "id": "e9865aff-8465-41af-9b04-a6eea85a4126",
   "metadata": {},
   "outputs": [],
   "source": [
    "#Définition d'une fonction d'affichage de graphiques de diagnostics d'un modèle\n",
    "\n",
    "def diagnostic_plots(fitted, resid, norm_resid, leverage, alpha=0.5):\n",
    "    \"\"\"Fonction qui affiche les graphiques de diagnostic d'un modèle:\n",
    "    - residus vs valeurs prédites\n",
    "    - qqplot résidus vs distribution normale\n",
    "    - scale location\n",
    "    - résidus vs effet de levier\n",
    "    \n",
    "    paramètres :\n",
    "    - fitted : valeurs prédites\n",
    "    - resid : résidus\n",
    "    - norm_resid : résidus normalisés\n",
    "    - leverage : effet de levier\n",
    "    - alpha : opacité des points (défaut=0.5)\n",
    "    \"\"\"\n",
    "    \n",
    "    #racine carrée des résidus standardisés\n",
    "    resid_sqrt = np.sqrt(np.abs(norm_resid))\n",
    "    \n",
    "    # Graphiques de diagnostic d'un\n",
    "    fig,((ax00, ax01), (ax10,ax11)) = plt.subplots(2,2,figsize=(7,7))\n",
    "\n",
    "    sns.regplot(x=fitted, y=resid, lowess=True, line_kws={'color':'red'}, scatter_kws={'alpha':alpha}, ax=ax00)\n",
    "    ax00.set_title('Résidus en fonction des valeurs prédites', size=10)\n",
    "    ax00.set_xlabel('Valeurs prédites')\n",
    "    ax00.set_ylabel('Résidus')\n",
    "\n",
    "    pingouin.qqplot(resid, dist='norm', color='tab:blue', ax=ax01)\n",
    "    ax01.set_title('Q-Q plot de comparaison à une distribution normale', size=10)\n",
    "    ax01.set_xlabel('Quantiles de la distribution normale')\n",
    "    ax01.set_ylabel('Quantiles des résidus')\n",
    "\n",
    "    sns.regplot(x=fitted, y=resid_sqrt, lowess=True, line_kws={'color':'red'}, scatter_kws={'alpha':alpha}, ax=ax10)\n",
    "    ax10.set_title('Scale-location', size=10)\n",
    "    ax10.set_xlabel('Valeurs prédites')\n",
    "    ax10.set_ylabel('Racine carrée des résidus standardisés')\n",
    "\n",
    "    sns.regplot(x=leverage, y=resid_sqrt, lowess=True, line_kws={'color':'red'}, scatter_kws={'alpha':alpha}, ax=ax11)\n",
    "    ax11.set_title('Résidus vs effet de levier', size=10)\n",
    "    ax11.set_xlabel('Effet de levier')\n",
    "    ax11.set_ylabel('Résidus standardisés')\n",
    "\n",
    "    plt.tight_layout()\n",
    "    plt.show()\n"
   ]
  },
  {
   "cell_type": "code",
   "execution_count": null,
   "id": "c96557a5-b605-4a67-ae8d-15167e9025cc",
   "metadata": {},
   "outputs": [],
   "source": [
    "import statsmodels.api as sm\n",
    "from statsmodels.formula.api import ols\n",
    "\n",
    "model_lin_acc_mois = ols(\"Effectif ~ C(mois)\", data=acc_par_mois).fit()\n",
    "\n",
    "\n",
    "# Valeurs prédites\n",
    "fitted_lm = model_lin_acc_mois.fittedvalues\n",
    "# Résidus\n",
    "residus_lm = model_lin_acc_mois.resid\n",
    "#residus standardisés et leur racine carrée\n",
    "influence_lm = model_lin_acc_mois.get_influence()\n",
    "residus_norm_lm = influence_lm.resid_studentized_internal\n",
    "#effet de levier\n",
    "leverage_lm = influence_lm.hat_matrix_diag\n",
    "\n",
    "# Graphiques de diagnostic\n",
    "diagnostic_plots(fitted_lm, residus_lm, residus_norm_lm, leverage_lm)"
   ]
  },
  {
   "cell_type": "markdown",
   "id": "332abd30-7f80-43dd-9faa-c06c12dacf96",
   "metadata": {},
   "source": [
    "On constate que les résidus ne suivent pas une distribution normale mais nous prendrons le parti qu'il sont suffisamment proches d'une distribution normale pour réaliser une ANOVA. \n",
    "\n",
    "ANOVA :\n",
    "\n",
    "- Hypothèse nulle $\\small H_0$ : le nombre moyen d'accidents est le même suivant le mois.\n",
    "- Hypothèse alternative $\\small H_1$ : le nombre moyen est différent suivant le mois.\n",
    "- Seuil de signification : $\\small\\alpha=0.05$"
   ]
  },
  {
   "cell_type": "code",
   "execution_count": null,
   "id": "a1fa3d58-ffdd-4cd9-aee0-ffdf41880480",
   "metadata": {},
   "outputs": [],
   "source": [
    "anova_table = sm.stats.anova_lm(model_lin_acc_mois, typ=2)\n",
    "anova_table"
   ]
  },
  {
   "cell_type": "markdown",
   "id": "0cb33562-f3e3-40cb-9b7a-1f9e8de4bf85",
   "metadata": {},
   "source": [
    "L'ANOVA permet de rejeter l'hypothèse nulle au risque de 5% : $\\small F(11,\\,180)=6.37$, $\\small p<0.0001^{***}$. On en conclut qu'il y a une différence significative du nombre moyen d'accidents suivant le mois.\n",
    "\n",
    "### 2.2.3 Test de Kruskal-Wallis\n",
    "\n",
    "Compte-tenu de la non normalité des résidus du modèle linéaire, un test non paramétrique de Kruskal-Wallis est plus adapté qu'une ANOVA.\n",
    "\n",
    "- Hypothèse nulle $\\small H_0$ : le nombre médian d'accidents est le même suivant le mois.\n",
    "- Hypothèse alternative $\\small H_1$ : le nombre médian est différent suivant le mois.\n",
    "- Seuil de signification : $\\small\\alpha=0.05$"
   ]
  },
  {
   "cell_type": "code",
   "execution_count": null,
   "id": "e744ff80-72bb-46c0-9562-7ed156b3a8a4",
   "metadata": {},
   "outputs": [],
   "source": [
    "liste_groupes = []\n",
    "# Pour chaque mois, on crée une liste du nombre d'accidents sur les années 2005-2021 (hors 2020)\n",
    "for i in range(1,13):\n",
    "    df = acc_par_mois.loc[acc_par_mois['mois']==i]\n",
    "    liste_groupes.append(df['Effectif'].tolist())"
   ]
  },
  {
   "cell_type": "code",
   "execution_count": null,
   "id": "d074501c-54dc-4122-aa75-66a3972cc379",
   "metadata": {},
   "outputs": [],
   "source": [
    "from scipy import stats\n",
    "\n",
    "stats.kruskal(liste_groupes[0], liste_groupes[1], liste_groupes[2],\n",
    "             liste_groupes[3], liste_groupes[4], liste_groupes[5],\n",
    "             liste_groupes[6], liste_groupes[7], liste_groupes[8],\n",
    "             liste_groupes[9], liste_groupes[10], liste_groupes[11])"
   ]
  },
  {
   "cell_type": "markdown",
   "id": "c5637191-aeaf-46d4-887a-b0e12da9b2e1",
   "metadata": {},
   "source": [
    "Le test de Kruskal-Wallis permet de rejeter l'hypothèse $\\small H_0$ au risque de 5% : $\\chi^2(11)=56.59, p<0.001^{***}$. Le nombre médian d'accidents est différent suivant le mois de l'année.\n",
    "\n",
    "### 2.2.4. Comparaison multiple\n",
    "Comparaisons multiples des mois deux à deux."
   ]
  },
  {
   "cell_type": "code",
   "execution_count": null,
   "id": "ab3ff64e-0c4d-45cf-9112-828c331e1c04",
   "metadata": {},
   "outputs": [],
   "source": [
    "import statsmodels.stats.multicomp as multi\n",
    "\n",
    "multicomp_mois = multi.MultiComparison(acc_par_mois['Effectif'], acc_par_mois['mois'])\n",
    "\n",
    "# Effectuer le test post-hoc de Tukey\n",
    "result = multicomp_mois.tukeyhsd()\n",
    "\n",
    "# Afficher les résultats\n",
    "print(result)"
   ]
  },
  {
   "cell_type": "markdown",
   "id": "af9942ea-1b16-4d4b-b5f7-26438fda2435",
   "metadata": {},
   "source": [
    "## 2.3. Y-a-t-il des mois plus meurtriers que d'autres ?\n",
    "### 2.3.1. Calcul du nombre moyen de morts pour chaque mois de l'année sur la période 2005-2021"
   ]
  },
  {
   "cell_type": "code",
   "execution_count": null,
   "id": "59f9a8da-17e8-492c-8981-2d397b8e19aa",
   "metadata": {},
   "outputs": [],
   "source": [
    "# Nombre de morts par année et par mois\n",
    "morts_par_mois = (df_usagers.loc[df_usagers['grav']==2, ['Num_Acc']]\n",
    "                  .merge(df_caract.loc[df_caract['an']!=2020, ['Num_Acc', 'an', 'mois']], how='inner', left_on='Num_Acc', right_on='Num_Acc')\n",
    "                  .groupby(['an','mois'])\n",
    "                  .agg(Effectif = pd.NamedAgg('Num_Acc','count'))\n",
    "                  .reset_index()\n",
    "                 )\n",
    "morts_par_mois.head()"
   ]
  },
  {
   "cell_type": "code",
   "execution_count": null,
   "id": "eec92535-95f9-493e-98be-851f03ca8383",
   "metadata": {},
   "outputs": [],
   "source": [
    "morts_par_mois['Effectif'].describe()"
   ]
  },
  {
   "cell_type": "markdown",
   "id": "67086a92-25df-404c-a16b-15c23e4a55cd",
   "metadata": {},
   "source": [
    "335 morts par mois en moyenne sur la période 2005-2017 (hors année 2020)"
   ]
  },
  {
   "cell_type": "code",
   "execution_count": null,
   "id": "e0ed6345-1d05-49ad-8e75-201da8ac50c1",
   "metadata": {},
   "outputs": [],
   "source": [
    "fig, ax= plt.subplots(figsize=(6,4))\n",
    "sns.histplot(x='Effectif', data=morts_par_mois, bins=40)\n",
    "plt.xlabel(\"Nombre de morts\")\n",
    "plt.ylabel(\"Nombre de mois\")\n",
    "plt.title(\"Distribution du nombre de morts mensuel\")\n",
    "plt.show()"
   ]
  },
  {
   "cell_type": "markdown",
   "id": "aca1ac1d-6a38-4f6a-87ca-7cbece5a6883",
   "metadata": {},
   "source": [
    "On remarque un outlier. Regardons à quel mois il correspond."
   ]
  },
  {
   "cell_type": "code",
   "execution_count": null,
   "id": "57d44c2d-48f5-4631-b1ae-34740263bf06",
   "metadata": {},
   "outputs": [],
   "source": [
    "morts_par_mois.loc[morts_par_mois['Effectif']==morts_par_mois['Effectif'].max()]"
   ]
  },
  {
   "cell_type": "markdown",
   "id": "02550b72-51ed-4b48-8013-0d06db1b9ae8",
   "metadata": {},
   "source": [
    "Il s'agit de juillet 2005. Après recherche sur internet, il n'apparaît pas de raison particulière."
   ]
  },
  {
   "cell_type": "code",
   "execution_count": null,
   "id": "6d5b49db-e1a2-4364-9a3c-de2d142dedae",
   "metadata": {},
   "outputs": [],
   "source": [
    "# Moyenne par mois\n",
    "moy_morts_mois = (morts_par_mois\n",
    "                .groupby('mois')\n",
    "                .agg(moyenne = pd.NamedAgg('Effectif','mean'),\n",
    "                     mediane = pd.NamedAgg('Effectif','median'),\n",
    "                     variance = pd.NamedAgg('Effectif','var'),\n",
    "                     std = pd.NamedAgg('Effectif','std'))\n",
    "                .reset_index()\n",
    "               )\n",
    "moy_morts_mois"
   ]
  },
  {
   "cell_type": "code",
   "execution_count": null,
   "id": "a76a8858-2f94-4f3b-bf62-dd3acf002c16",
   "metadata": {},
   "outputs": [],
   "source": [
    "# Représentation graphique du nombre d'accidents moyen par mois de l'année\n",
    "\n",
    "fig, ax = plt.subplots(figsize=(8,4))\n",
    "sns.barplot(x='mois', y='Effectif', data= morts_par_mois, color='tab:blue', errorbar='sd')\n",
    "plt.ylim(0,500)\n",
    "plt.xlabel('Mois', size=12)\n",
    "plt.ylabel(\"Nombre moyen de morts\", size=12)\n",
    "plt.xticks([i for i in range(12)], [\"Janv\", \"Fév\", \"Mars\", \"Avr\", \"Mai\", \"Juin\", \"Juil\", \"Août\", \"Sept\", \"Oct\", \"Nov\", \"Déc\"], rotation=45)\n",
    "plt.grid(visible=True, axis='y', color=\"#e0e0e0\")\n",
    "plt.title(\"Nombre moyen de morts et écart-type pour chaque mois de l'année sur la période 2005-2021 (hors 2020)\", size=12)\n",
    "ax.set_axisbelow(True)\n",
    "plt.show()"
   ]
  },
  {
   "cell_type": "code",
   "execution_count": null,
   "id": "a7bc62f2-40fc-4231-8116-53704196586c",
   "metadata": {},
   "outputs": [],
   "source": [
    "# boxplot du nombre de morts par mois de l'année\n",
    "\n",
    "fig, ax = plt.subplots(figsize=(8,4))\n",
    "sns.boxplot(x='mois', y='Effectif', data= morts_par_mois, color='tab:blue', whis=[0,100])\n",
    "plt.xlabel('Mois', size=12)\n",
    "plt.ylabel(\"Nombre de morts\", size=12)\n",
    "plt.xticks([i for i in range(12)], [\"Janv\", \"Fév\", \"Mars\", \"Avr\", \"Mai\", \"Juin\", \"Juil\", \"Août\", \"Sept\", \"Oct\", \"Nov\", \"Déc\"], rotation=45)\n",
    "plt.grid(visible=True, axis='y', color=\"#e0e0e0\")\n",
    "plt.title(\"Diagrammes en boîte du nombre de morts pour chaque mois de l'année sur la période 2005-2021 (hors 2020)\", size=12)\n",
    "ax.set_axisbelow(True)\n",
    "plt.show()"
   ]
  },
  {
   "cell_type": "markdown",
   "id": "3ee8fa6e-2180-4410-94ac-218e89102549",
   "metadata": {},
   "source": [
    "Résultats intéressants : \n",
    "- Alors que le mois de juillet ne se classe que 4ème en nombre moyen d'accidents, c'est le mois le plus meurtrier.\n",
    "- Le mois d'août est un des mois avec le plus faible nombre moyen d'accidents mais un des plus hauts nombres moyens de morts.\n",
    "\n",
    "Regardons si les différences observées entre mois sont significatives.\n",
    "\n",
    "### 2.3.2 ANOVA"
   ]
  },
  {
   "cell_type": "code",
   "execution_count": null,
   "id": "44a2fb7d-b35d-4bbe-85bf-819854e7d279",
   "metadata": {},
   "outputs": [],
   "source": [
    "model_lin_morts_mois = ols(\"Effectif ~ C(mois)\", data=morts_par_mois).fit()\n",
    "\n",
    "\n",
    "# Valeurs prédites\n",
    "fitted_lm = model_lin_morts_mois.fittedvalues\n",
    "# Résidus\n",
    "residus_lm = model_lin_morts_mois.resid\n",
    "#residus standardisés et leur racine carrée\n",
    "influence_lm = model_lin_morts_mois.get_influence()\n",
    "residus_norm_lm = influence_lm.resid_studentized_internal\n",
    "#effet de levier\n",
    "leverage_lm = influence_lm.hat_matrix_diag\n",
    "\n",
    "# Graphiques de diagnostic\n",
    "diagnostic_plots(fitted_lm, residus_lm, residus_norm_lm, leverage_lm)"
   ]
  },
  {
   "cell_type": "markdown",
   "id": "0fe5cf0c-1654-4d63-b961-9664f61066bf",
   "metadata": {},
   "source": [
    "Là-encore, les résidus ne suivent pas une loi normale mais nous considérerons que nous pouvons faire une ANOVA :\n",
    "\n",
    "- Hypothèse nulle $\\small H_0$ : le nombre moyen de morts est le même suivant le mois.\n",
    "- Hypothèse alternative $\\small H_1$ : le nombre moyen est différent suivant le mois.\n",
    "- Seuil de signification : $\\small\\alpha=0.05$"
   ]
  },
  {
   "cell_type": "code",
   "execution_count": null,
   "id": "35d428e4-1eff-46c8-8528-2fedf1fff035",
   "metadata": {},
   "outputs": [],
   "source": [
    "anova_table_morts = sm.stats.anova_lm(model_lin_morts_mois, typ=2)\n",
    "anova_table_morts"
   ]
  },
  {
   "cell_type": "markdown",
   "id": "ed77fb41-2e43-4045-98bb-4207fefaca36",
   "metadata": {},
   "source": [
    "L'ANOVA permet de rejeter l'hypothèse nulle au risque de 5% : $\\small F(11,\\,180)=6.52$, $\\small p<0.0001^{***}$. On en conclut qu'il y a une différence significative du nombre moyen de morts suivant le mois.\n",
    "\n",
    "### 2.3.3. Test de Kruskal-Wallis\n",
    "\n",
    "- Hypothèse nulle $\\small H_0$ : le nombre médian de morts est le même suivant le mois.\n",
    "- Hypothèse alternative $\\small H_1$ : le nombre médian est différent suivant le mois.\n",
    "- Seuil de signification : $\\small\\alpha=0.05$"
   ]
  },
  {
   "cell_type": "code",
   "execution_count": null,
   "id": "14fad432-7025-4a20-b254-4d2f787ccc87",
   "metadata": {},
   "outputs": [],
   "source": [
    "liste_groupes = []\n",
    "# Pour chaque mois, on crée une liste du nombre de morts sur les années 2005-2021 (hors 2020)\n",
    "for i in range(1,13):\n",
    "    df = morts_par_mois.loc[morts_par_mois['mois']==i]\n",
    "    liste_groupes.append(df['Effectif'].tolist())"
   ]
  },
  {
   "cell_type": "code",
   "execution_count": null,
   "id": "e8a57a36-ebc6-4f14-b83e-1db905bf87ee",
   "metadata": {},
   "outputs": [],
   "source": [
    "from scipy import stats\n",
    "\n",
    "stats.kruskal(liste_groupes[0], liste_groupes[1], liste_groupes[2],\n",
    "             liste_groupes[3], liste_groupes[4], liste_groupes[5],\n",
    "             liste_groupes[6], liste_groupes[7], liste_groupes[8],\n",
    "             liste_groupes[9], liste_groupes[10], liste_groupes[11])"
   ]
  },
  {
   "cell_type": "markdown",
   "id": "2ecc277d-f9cd-400f-9076-399a7cd6edb5",
   "metadata": {},
   "source": [
    "Le test de Kruskal-Wallis permet de rejeter l'hypothèse nulle au risque de 5% : $\\small \\chi^2(11) = 57.45, p<0.0001^{***}$. Le nombre médian de morts diffère suivant les mois de l'année.\n",
    "\n",
    "### 2.3.4. Comparaisons multiples"
   ]
  },
  {
   "cell_type": "code",
   "execution_count": null,
   "id": "4fbc89f5-2c68-4a4e-899f-fd5ea0cbe1b5",
   "metadata": {},
   "outputs": [],
   "source": [
    "multicomp_mois = multi.MultiComparison(morts_par_mois['Effectif'], morts_par_mois['mois'])\n",
    "\n",
    "# Effectuer le test post-hoc de Tukey\n",
    "result = multicomp_mois.tukeyhsd()\n",
    "\n",
    "# Afficher les résultats\n",
    "print(result)"
   ]
  },
  {
   "cell_type": "markdown",
   "id": "8305d3b8-d7c8-4e80-8ffa-19de173961f8",
   "metadata": {},
   "source": [
    "## 2.4. Comparaison du taux de mortalité\n",
    "\n",
    "Le fait que l'on observe des mois avec \"peu d'accidents\" et un grand nombre de morts pousse à calculer le taux de mortalité que nous définirons de la manière suivante :\n",
    "\n",
    "**taux de mortalité = nombre de morts pour 100 accidents**\n",
    "\n",
    "Nous utiliserons ce calcul plutôt que le pourcentage d'accidents mortels parmi les accidents corporels car il peut y avoir plusieurs morts lors d'un accident.\n",
    "\n",
    "### 2.4.1. Calcul des taux de mortalité"
   ]
  },
  {
   "cell_type": "code",
   "execution_count": null,
   "id": "f6a67237-9586-4823-9f0b-38cf7f1ffa6f",
   "metadata": {},
   "outputs": [],
   "source": [
    "#jointure acc_par_mois et morts_par_mois\n",
    "acc_vs_morts_par_mois = (acc_par_mois\n",
    "                         .rename(columns={'Effectif':'accidents'})\n",
    "                         .merge(morts_par_mois.rename(columns={'Effectif':'morts'}), how='inner', on=['an','mois'])\n",
    "                        )\n",
    "acc_vs_morts_par_mois.head()"
   ]
  },
  {
   "cell_type": "code",
   "execution_count": null,
   "id": "149420b0-e742-4181-b9d3-60197ad5c617",
   "metadata": {},
   "outputs": [],
   "source": [
    "# Calcul du taux de mortalité\n",
    "acc_vs_morts_par_mois['tx_mort'] = acc_vs_morts_par_mois['morts']/acc_vs_morts_par_mois['accidents']*100\n",
    "acc_vs_morts_par_mois.head()"
   ]
  },
  {
   "cell_type": "code",
   "execution_count": null,
   "id": "7a8db492-2b79-45e4-9ae4-6d53e04a6c82",
   "metadata": {},
   "outputs": [],
   "source": [
    "# Taux de mortalité moyen pour chaque mois de l'année\n",
    "(acc_vs_morts_par_mois\n",
    " .groupby('mois')\n",
    " .agg(taux_moyen = pd.NamedAgg('tx_mort','mean'),\n",
    "      taux_median = pd.NamedAgg('tx_mort','median'),\n",
    "      variance = pd.NamedAgg('tx_mort','var'),\n",
    "      std = pd.NamedAgg('tx_mort','std'))\n",
    ")"
   ]
  },
  {
   "cell_type": "code",
   "execution_count": null,
   "id": "d64dad80-8ca7-4a97-925f-092515840fac",
   "metadata": {},
   "outputs": [],
   "source": [
    "# Représentation graphique du taux de mortalité moyen par mois de l'année\n",
    "\n",
    "fig, ax = plt.subplots(figsize=(8,4))\n",
    "sns.barplot(x='mois', y='tx_mort', data= acc_vs_morts_par_mois, color='tab:blue', errorbar='sd')\n",
    "plt.xlabel('Mois', size=12)\n",
    "plt.ylabel(\"Nombre de morts pour 100 accidents\", size=12)\n",
    "plt.xticks([i for i in range(12)], [\"Janv\", \"Fév\", \"Mars\", \"Avr\", \"Mai\", \"Juin\", \"Juil\", \"Août\", \"Sept\", \"Oct\", \"Nov\", \"Déc\"], rotation=45)\n",
    "plt.grid(visible=True, axis='y', color=\"#e0e0e0\")\n",
    "plt.title(\"Taux de mortalité moyen et écart-type pour chaque mois de l'année sur la période 2005-2021 (hors 2020)\", size=12)\n",
    "ax.set_axisbelow(True)\n",
    "plt.show()"
   ]
  },
  {
   "cell_type": "code",
   "execution_count": null,
   "id": "f0332290-e0bf-4ecb-8466-19f5a8c897a1",
   "metadata": {},
   "outputs": [],
   "source": [
    "# boxplot du taux de mortalité par mois de l'année\n",
    "\n",
    "fig, ax = plt.subplots(figsize=(8,4))\n",
    "sns.boxplot(x='mois', y='tx_mort', data= acc_vs_morts_par_mois, color='tab:blue', whis=[0,100])\n",
    "plt.xlabel('Mois', size=12)\n",
    "plt.ylabel(\"Nombre de morts pour 100 accidents\", size=12)\n",
    "plt.xticks([i for i in range(12)], [\"Janv\", \"Fév\", \"Mars\", \"Avr\", \"Mai\", \"Juin\", \"Juil\", \"Août\", \"Sept\", \"Oct\", \"Nov\", \"Déc\"], rotation=45)\n",
    "plt.grid(visible=True, axis='y', color=\"#e0e0e0\")\n",
    "plt.title(\"Diagrammes en boîte du taux de mortalité pour chaque mois de l'année sur la période 2005-2021 (hors 2020)\", size=12)\n",
    "ax.set_axisbelow(True)\n",
    "plt.show()"
   ]
  },
  {
   "cell_type": "markdown",
   "id": "117f4715-2c4d-4241-aef9-7f0c31cf6658",
   "metadata": {},
   "source": [
    "On voit clairement trois mois avec des taux de mortalité supérieurs aux autres : juillet, août et décembre. On peut avancer les hyptohèses des départs en vacances. Testons si les différences observées sont significatives.\n",
    "\n",
    "### 2.4.2. ANOVA"
   ]
  },
  {
   "cell_type": "code",
   "execution_count": null,
   "id": "1fe04156-17ae-421a-9ae3-444c684fc513",
   "metadata": {},
   "outputs": [],
   "source": [
    "model_lin_tx_mort = ols(\"tx_mort ~ C(mois)\", data=acc_vs_morts_par_mois).fit()\n",
    "\n",
    "\n",
    "# Valeurs prédites\n",
    "fitted_lm = model_lin_tx_mort.fittedvalues\n",
    "# Résidus\n",
    "residus_lm = model_lin_tx_mort.resid\n",
    "#residus standardisés et leur racine carrée\n",
    "influence_lm = model_lin_tx_mort.get_influence()\n",
    "residus_norm_lm = influence_lm.resid_studentized_internal\n",
    "#effet de levier\n",
    "leverage_lm = influence_lm.hat_matrix_diag\n",
    "\n",
    "# Graphiques de diagnostic\n",
    "diagnostic_plots(fitted_lm, residus_lm, residus_norm_lm, leverage_lm)"
   ]
  },
  {
   "cell_type": "markdown",
   "id": "8386eb55-19e8-4a7b-912a-7b1b665c550f",
   "metadata": {},
   "source": [
    "Mis à part deux résidus, les résidus suivent approximativement une loi normale et l'homoscédasticité est relativement bonne. Nous considèrerons que nous sommes dans des conditions valides d'utilisation d'une ANOVA\n",
    "\n",
    "- Hypothèse nulle $\\small H_0$ : le taux de mortalité est le même suivant le mois.\n",
    "- Hypothèse alternative $\\small H_1$ : le taux de mortalité est différent suivant le mois.\n",
    "- Seuil de signification : $\\small\\alpha=0.05$"
   ]
  },
  {
   "cell_type": "code",
   "execution_count": null,
   "id": "73fcb36f-b019-4e88-8db3-a1f6a5c61303",
   "metadata": {},
   "outputs": [],
   "source": [
    "anova_tx_mort = sm.stats.anova_lm(model_lin_tx_mort, typ=2)\n",
    "anova_tx_mort"
   ]
  },
  {
   "cell_type": "markdown",
   "id": "fd45e871-1c79-4bae-b714-1046c25597a7",
   "metadata": {},
   "source": [
    "L'ANOVA permet de rejeter l'hypothèse nulle : $\\small F(11, 180) = 23.18, p<0.000^{***}$. On en déduit qu'il y a une différence significative entre les taux de mortalités des différents mois de l'année. Le text de Tuckey devrait nous montrer qu'il y a une déifférence significative entre les mois de juillet, août et décembre d'un côté, et les autres mois de l'autre côté.\n",
    "\n",
    "### 2.4.3. Test de Tuckey"
   ]
  },
  {
   "cell_type": "code",
   "execution_count": null,
   "id": "c801a845-5af6-491f-b941-b7d31aba81f7",
   "metadata": {},
   "outputs": [],
   "source": [
    "multicomp_mois = multi.MultiComparison(acc_vs_morts_par_mois['tx_mort'], acc_vs_morts_par_mois['mois'])\n",
    "\n",
    "# Effectuer le test post-hoc de Tukey\n",
    "result = multicomp_mois.tukeyhsd()\n",
    "\n",
    "# Afficher les résultats\n",
    "print(result)"
   ]
  },
  {
   "cell_type": "markdown",
   "id": "35eb0572-6163-489e-86c7-06a86eb9d33d",
   "metadata": {},
   "source": [
    "- Le taux de mortalité de juillet est significativement différent de celui de tous les autres mois de l'année à l'exception de août et décembre ($\\small p<0.0001^{***}$ à chaque fois)\n",
    "- Le taux de mortalité d'août est significativement différent de celui de tous les autres mois de l'année à l'exception de juillet uniquement ($\\small p<0.0001^{***}$ à chaque fois)\n",
    "- Le taux de mortalité de décembre est significativement différent de celui de tous les autres mois de l'année à l'exception de juillet, août et février.\n",
    "\n",
    "## 2.5. Taux de mortalité suivant le jour de la semaine.\n",
    "\n",
    "### 2.5.1 Calcul du taux de mortalité chaque jour\n",
    "\n",
    "Les taux de mortalité élevés aux mois de juillet, août et décembre amènent à se poser la question de leur cause. Une hyptohèse est un taux de mortalité élevé lors des week-ends de départ en vacances. Mais il faut aussi regarder les taux de mortalités le week-end les autres mois. En effet, si on observe une élévation du taux de mortalité le week-end en juillet et août mais également les autres mois, celà ne permettra pas de conclure en l'influence des week-ends de départ en vacances.\n",
    "\n",
    "Pour étudier ces taux, il faut créer une variable date et y faire correspondre le jour de la semaine.\n",
    "\n"
   ]
  },
  {
   "cell_type": "code",
   "execution_count": null,
   "id": "d75a5caa-bb63-447e-99c3-0ce0c3d27bdd",
   "metadata": {},
   "outputs": [],
   "source": [
    "# Création de la variable date\n",
    "df_caract['date'] = pd.to_datetime(df_caract[['an','mois','jour']].rename(columns={'an':'year', 'mois':'month', 'jour':'day'}))\n",
    "df_caract[['an','mois','jour','date']].head()"
   ]
  },
  {
   "cell_type": "code",
   "execution_count": null,
   "id": "811ccd83-e1af-4b2e-ac5a-434367152f06",
   "metadata": {},
   "outputs": [],
   "source": [
    "# Création du jour de la semaine\n",
    "df_caract['nom_jour'] = df_caract['date'].dt.day_name(locale='fr_FR.utf8')\n",
    "df_caract['nom_mois'] = df_caract['date'].dt.month_name(locale='fr_FR.utf8')\n",
    "df_caract[['an','mois','jour','date','nom_jour', 'nom_mois']].head()"
   ]
  },
  {
   "cell_type": "code",
   "execution_count": null,
   "id": "46b40941-6873-4895-aa56-9a3e23067701",
   "metadata": {},
   "outputs": [],
   "source": [
    "acc_par_jour = (df_caract\n",
    "                .groupby(['an','mois','nom_mois','nom_jour'])\n",
    "                .agg(accidents = pd.NamedAgg('Num_Acc','count'))\n",
    "                .reset_index()\n",
    "                )\n",
    "acc_par_jour.head()"
   ]
  },
  {
   "cell_type": "code",
   "execution_count": null,
   "id": "b3ed7654-3754-4ddf-b18b-ce4fa9579067",
   "metadata": {},
   "outputs": [],
   "source": [
    "morts_par_jour = (df_caract[['Num_Acc','an','mois','jour','date','nom_jour']]\n",
    "                  .merge(df_usagers.loc[df_usagers['grav']==2], on='Num_Acc', how='inner')\n",
    "                  .groupby(['an','mois','nom_jour'])\n",
    "                  .agg(morts = pd.NamedAgg('Num_Acc','count'))\n",
    "                  .reset_index()\n",
    "                 )\n",
    "morts_par_jour.head()"
   ]
  },
  {
   "cell_type": "markdown",
   "id": "17a9338a-24f2-4695-a327-183c31572349",
   "metadata": {},
   "source": [
    "Nous pouvons maintenant étudier le taux de mortalité pour chaque jour de la semaine et pour chaque mois de l'année."
   ]
  },
  {
   "cell_type": "code",
   "execution_count": null,
   "id": "7eb0fb33-f952-4fe3-a7a3-69e4bfd87695",
   "metadata": {},
   "outputs": [],
   "source": [
    "acc_vs_morts_par_jour = acc_par_jour.merge(morts_par_jour, on=['an','mois','nom_jour'], how='inner')\n",
    "acc_vs_morts_par_jour['tx_mortalite'] = acc_vs_morts_par_jour['morts']/acc_vs_morts_par_jour['accidents']*100\n",
    "acc_vs_morts_par_jour.head()"
   ]
  },
  {
   "cell_type": "code",
   "execution_count": null,
   "id": "b01b33aa-7de8-4b01-b5f4-03266e9adc93",
   "metadata": {},
   "outputs": [],
   "source": [
    "acc_vs_morts_pivot = round(acc_vs_morts_par_jour.pivot_table(index='mois', columns='nom_jour', values='tx_mortalite', aggfunc='mean'), 1)\n",
    "acc_vs_morts_pivot"
   ]
  },
  {
   "cell_type": "code",
   "execution_count": null,
   "id": "4868d8c3-c0aa-4022-9fce-981eab96f32a",
   "metadata": {},
   "outputs": [],
   "source": [
    "ordre_jours = ['Lundi', 'Mardi', 'Mercredi', 'Jeudi', 'Vendredi', 'Samedi', 'Dimanche']\n",
    "\n",
    "g = sns.catplot(x='nom_jour', y='tx_mortalite', data=acc_vs_morts_par_jour, \n",
    "                kind='box', order=ordre_jours, whis=[0,100], color='tab:blue',\n",
    "                col='nom_mois', col_wrap=4,\n",
    "                height=3, aspect=1)\n",
    "\n",
    "plt.xlabel('Jour de la semaine')\n",
    "plt.ylabel('Nombre de morts pour 100 accidents')\n",
    "plt.suptitle(\"Taux de mortalité par jour de la semaine pour chaque mois de l'année sur la période 2005-2021\", size=12, y=1.02)\n",
    "g.set_titles('{col_name}',size=10)\n",
    "g.set_xlabels(\"Jour de la semaine\", size=10)\n",
    "g.set_xticklabels(['Lundi', 'Mardi', 'Mercredi', 'Jeudi', 'Vendredi', 'Samedi', 'Dimanche'], rotation=45)\n",
    "g.set_ylabels(\"Nombre de morts pour 100 accidents\",size=10)\n",
    "g.fig.subplots_adjust(hspace = 1)\n",
    "plt.tight_layout()\n",
    "plt.show()"
   ]
  },
  {
   "cell_type": "markdown",
   "id": "1f8356f3-96fc-431f-b6ce-bd793b01e55c",
   "metadata": {},
   "source": [
    "Quel que soit le mois, le taux de mortalité augmente le week-end. Quel différence y-a-t-il entre le taux de mortalité moyen le week-end et en semaine pour chaque mois ?\n",
    "\n",
    "### 2.5.2 Comparaison des taux de mortalités en semaine et le week-end pous chaque mois de l'année."
   ]
  },
  {
   "cell_type": "code",
   "execution_count": null,
   "id": "f10bcf7a-9e34-49d0-9a5c-392cbe3aff40",
   "metadata": {},
   "outputs": [],
   "source": [
    "tx_mort_we = (acc_vs_morts_par_jour\n",
    "              .loc[acc_vs_morts_par_jour['nom_jour'].isin(['Samedi', 'Dimanche'])]\n",
    "              .groupby(['mois','nom_mois'])\n",
    "              .agg(tx_mort_we = pd.NamedAgg('tx_mortalite','mean'))\n",
    "              .reset_index()\n",
    "             )\n",
    "tx_mort_we"
   ]
  },
  {
   "cell_type": "code",
   "execution_count": null,
   "id": "edb2a7ed-bbd5-49c0-8d06-562dedc0615b",
   "metadata": {},
   "outputs": [],
   "source": [
    "tx_mort_sem = (acc_vs_morts_par_jour\n",
    "              .loc[~acc_vs_morts_par_jour['nom_jour'].isin(['Samedi', 'Dimanche'])]\n",
    "              .groupby(['mois','nom_mois'])\n",
    "              .agg(tx_mort_sem = pd.NamedAgg('tx_mortalite','mean'))\n",
    "              .reset_index()\n",
    "             )\n",
    "tx_mort_sem"
   ]
  },
  {
   "cell_type": "code",
   "execution_count": null,
   "id": "6351f692-a822-4df6-8e42-9d7b5172fefd",
   "metadata": {},
   "outputs": [],
   "source": [
    "comp_tx_mort_we_sem = tx_mort_we.merge(tx_mort_sem, on=['mois','nom_mois'])\n",
    "comp_tx_mort_we_sem['diff'] = comp_tx_mort_we_sem['tx_mort_we']-comp_tx_mort_we_sem['tx_mort_sem']\n",
    "comp_tx_mort_we_sem"
   ]
  },
  {
   "cell_type": "code",
   "execution_count": null,
   "id": "0097e747-333a-45e3-a6ed-e0bec25b794f",
   "metadata": {},
   "outputs": [],
   "source": [
    "fig, ax = plt.subplots(figsize=(12,4))\n",
    "sns.barplot(x='nom_mois', y='diff', data=comp_tx_mort_we_sem, color='tab:blue', ax=ax)\n",
    "plt.title(\"Différence entre le taux de mortalité moyen par jour en week-end et en semaine suivant le mois de l'année sur la période 2005-2021\", size=12)\n",
    "plt.xlabel('Mois')\n",
    "plt.ylabel('Différence')\n",
    "plt.xticks(rotation=45)\n",
    "plt.show()"
   ]
  },
  {
   "cell_type": "markdown",
   "id": "0ac9759e-8109-49e2-ad43-0782d4617332",
   "metadata": {},
   "source": [
    "On n'observe pas une différence supérieure en juillet et août concernant du taux de mortalité entre le week-end et la semaine. Le taux de mortalité supérieur de ces deux mois ne s'explique donc pas par les accidents des week-ends de départ en vacance. Le taux est supérieur sur l'ensemble de la semaine.\n",
    "\n",
    "### 2.5.3 La différence entre le taux de mortalité en semaine et le week-end est-elle significative ?"
   ]
  },
  {
   "cell_type": "code",
   "execution_count": null,
   "id": "ff96690d-28f9-4951-81b4-eca22c88e05a",
   "metadata": {},
   "outputs": [],
   "source": [
    "# Création d'une variable week-end : 1 pour week-end et 0 pour semaine\n",
    "\n",
    "acc_vs_morts_par_jour['weekend'] = acc_vs_morts_par_jour['nom_jour'].map(lambda x : 1 if x in ['Samedi', 'Dimanche'] else 0)\n",
    "\n",
    "acc_vs_morts_par_jour.head()"
   ]
  },
  {
   "cell_type": "code",
   "execution_count": null,
   "id": "3bb561e1-0836-4ccf-a1c7-239ffa6c6999",
   "metadata": {},
   "outputs": [],
   "source": [
    "#modèle linéaire du taux de mortalité en fonction de la variable week-end\n",
    "mod_lin_tx_mort_vs_we = ols('tx_mortalite ~ C(weekend)', data=acc_vs_morts_par_jour).fit()\n",
    "\n",
    "\n",
    "# Valeurs prédites\n",
    "fitted_lm = mod_lin_tx_mort_vs_we.fittedvalues\n",
    "# Résidus\n",
    "residus_lm = mod_lin_tx_mort_vs_we.resid\n",
    "#residus standardisés et leur racine carrée\n",
    "influence_lm = mod_lin_tx_mort_vs_we.get_influence()\n",
    "residus_norm_lm = influence_lm.resid_studentized_internal\n",
    "#effet de levier\n",
    "leverage_lm = influence_lm.hat_matrix_diag\n",
    "\n",
    "# Graphiques de diagnostic\n",
    "np.seterr(invalid='ignore')\n",
    "diagnostic_plots(fitted_lm, residus_lm, residus_norm_lm, leverage_lm)"
   ]
  },
  {
   "cell_type": "markdown",
   "id": "698cee61-9c20-4eb8-afdd-855e3c18a586",
   "metadata": {},
   "source": [
    "Les résidus suivent approximativement une loi normale. On ne remarque pas non plus de problème sur le graphique des résidus en fonction des valeurs prédites. Exécutons une ANOVA :\n",
    "\n",
    "- Hypothèse nulle $\\small H_0$ : le taux de mortalité moyen par jour est le même en week-end et en semaine.\n",
    "- Hypothèse alternative $\\small H_1$ : le taux de mortalité moyen par jour est différent en week-end et en semaine.\n",
    "- Seuil de signification : $\\small\\alpha=0.05$"
   ]
  },
  {
   "cell_type": "code",
   "execution_count": null,
   "id": "555eb25d-585b-4f59-b0ea-a1dc36d37b55",
   "metadata": {},
   "outputs": [],
   "source": [
    "anova = sm.stats.anova_lm(mod_lin_tx_mort_vs_we)\n",
    "anova"
   ]
  },
  {
   "cell_type": "markdown",
   "id": "24faef7c-391d-4140-b629-c5c3b13131a2",
   "metadata": {},
   "source": [
    "On observe une différence très significative entre le taux de mortalité moyen en week-end et en semaine : $\\small F(1, 1426)=1415.1, p<0.0001^{***}$. Le taux de mortalité est supérieur le week-end."
   ]
  },
  {
   "cell_type": "code",
   "execution_count": null,
   "id": "0b6fb75f-6082-4ac9-8847-ce67a40fed28",
   "metadata": {},
   "outputs": [],
   "source": []
  }
 ],
 "metadata": {
  "kernelspec": {
   "display_name": "Python 3 (ipykernel)",
   "language": "python",
   "name": "python3"
  },
  "language_info": {
   "codemirror_mode": {
    "name": "ipython",
    "version": 3
   },
   "file_extension": ".py",
   "mimetype": "text/x-python",
   "name": "python",
   "nbconvert_exporter": "python",
   "pygments_lexer": "ipython3",
   "version": "3.10.9"
  }
 },
 "nbformat": 4,
 "nbformat_minor": 5
}
