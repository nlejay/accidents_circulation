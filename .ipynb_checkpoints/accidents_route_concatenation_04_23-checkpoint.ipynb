{
 "cells": [
  {
   "cell_type": "markdown",
   "id": "34cd5f54-41db-4b7a-a1d3-488dc0041482",
   "metadata": {},
   "source": [
    "# Projet accidents de la route\n",
    "\n",
    "Ce projet porte sur un jeu de données de l'**Observatoire National Interministériel de la Sécurité Routière (ONISR)** recensant les accidents corporels (mortel ou non) de la circulation routière en France.\n",
    "\n",
    "***\n",
    "## Ouverture et concaténation des données des fichiers caractéristiques\n",
    "\n",
    "\n",
    "D'après la documentation fournie, les données jusqu'en 1019 contiennent les mêmes variables. En revanche, à partir de 2019, la variable *gsp* n'existe plus. Les jeux de données contenant les latitudes et longitudes des lieux d'accidents, je supprime la colonne *gps*.\n",
    "\n",
    "A noter que les fichiers csv de chaque année possède des séparateurs différents : point-virgule, virgule ou tabulation."
   ]
  },
  {
   "cell_type": "code",
   "execution_count": 1,
   "id": "5c3c79fa-4eb8-45b3-9522-dc561b6b95c5",
   "metadata": {},
   "outputs": [],
   "source": [
    "import pandas as pd\n",
    "\n",
    "liste_dataframes = []\n",
    "for i in range(2005,2009,1):\n",
    "    liste_dataframes.append(pd.read_csv(f'caracteristiques_{i}.csv'))\n",
    "    \n",
    "for i in range(2010,2019,1):\n",
    "    liste_dataframes.append(pd.read_csv(f'caracteristiques_{i}.csv', sep=','))\n",
    "\n",
    "liste_dataframes.append(pd.read_csv(f'caracteristiques_2009.csv', sep='\\t'))\n",
    "\n",
    "data_caracteristiques = pd.concat(liste_dataframes, axis=0, ignore_index=True)\n",
    "\n"
   ]
  },
  {
   "cell_type": "code",
   "execution_count": 2,
   "id": "b4cbd730-0319-401c-88c7-883c5da36741",
   "metadata": {},
   "outputs": [
    {
     "name": "stdout",
     "output_type": "stream",
     "text": [
      "<class 'pandas.core.frame.DataFrame'>\n",
      "RangeIndex: 958469 entries, 0 to 958468\n",
      "Data columns (total 16 columns):\n",
      " #   Column   Non-Null Count   Dtype  \n",
      "---  ------   --------------   -----  \n",
      " 0   Num_Acc  958469 non-null  int64  \n",
      " 1   an       958469 non-null  int64  \n",
      " 2   mois     958469 non-null  int64  \n",
      " 3   jour     958469 non-null  int64  \n",
      " 4   hrmn     958469 non-null  int64  \n",
      " 5   lum      958469 non-null  int64  \n",
      " 6   agg      958469 non-null  int64  \n",
      " 7   int      958469 non-null  int64  \n",
      " 8   atm      958396 non-null  float64\n",
      " 9   col      958450 non-null  float64\n",
      " 10  com      958467 non-null  float64\n",
      " 11  adr      816550 non-null  object \n",
      " 12  gps      480052 non-null  object \n",
      " 13  lat      471401 non-null  float64\n",
      " 14  long     471397 non-null  object \n",
      " 15  dep      958469 non-null  int64  \n",
      "dtypes: float64(4), int64(9), object(3)\n",
      "memory usage: 117.0+ MB\n"
     ]
    }
   ],
   "source": [
    "data_caracteristiques.info()"
   ]
  },
  {
   "cell_type": "code",
   "execution_count": 3,
   "id": "907aca25-72e7-4503-b006-80d6eb43ee63",
   "metadata": {},
   "outputs": [
    {
     "data": {
      "text/plain": [
       "Index(['Num_Acc', 'an', 'mois', 'jour', 'hrmn', 'lum', 'agg', 'int', 'atm',\n",
       "       'col', 'com', 'adr', 'gps', 'lat', 'long', 'dep'],\n",
       "      dtype='object')"
      ]
     },
     "execution_count": 3,
     "metadata": {},
     "output_type": "execute_result"
    }
   ],
   "source": [
    "data_caracteristiques.columns"
   ]
  },
  {
   "cell_type": "code",
   "execution_count": 4,
   "id": "9c3c86a6-e1d4-49f6-bd37-25c263b927ad",
   "metadata": {},
   "outputs": [],
   "source": [
    "liste_dataframes=[]\n",
    "for i in range(2019,2022,1):\n",
    "    liste_dataframes.append(pd.read_csv(f\"caracteristiques_{i}.csv\", sep=';'))\n",
    "    \n",
    "df_2019_2021 = pd.concat(liste_dataframes, axis=0, ignore_index=True)"
   ]
  },
  {
   "cell_type": "code",
   "execution_count": 5,
   "id": "502ecf0f-0dcd-4933-9629-7ecd5d837f32",
   "metadata": {},
   "outputs": [
    {
     "name": "stdout",
     "output_type": "stream",
     "text": [
      "<class 'pandas.core.frame.DataFrame'>\n",
      "RangeIndex: 163102 entries, 0 to 163101\n",
      "Data columns (total 15 columns):\n",
      " #   Column   Non-Null Count   Dtype \n",
      "---  ------   --------------   ----- \n",
      " 0   Num_Acc  163102 non-null  int64 \n",
      " 1   jour     163102 non-null  int64 \n",
      " 2   mois     163102 non-null  int64 \n",
      " 3   an       163102 non-null  int64 \n",
      " 4   hrmn     163102 non-null  object\n",
      " 5   lum      163102 non-null  int64 \n",
      " 6   dep      163102 non-null  object\n",
      " 7   com      163102 non-null  object\n",
      " 8   agg      163102 non-null  int64 \n",
      " 9   int      163102 non-null  int64 \n",
      " 10  atm      163102 non-null  int64 \n",
      " 11  col      163102 non-null  int64 \n",
      " 12  adr      161745 non-null  object\n",
      " 13  lat      163102 non-null  object\n",
      " 14  long     163102 non-null  object\n",
      "dtypes: int64(9), object(6)\n",
      "memory usage: 18.7+ MB\n"
     ]
    }
   ],
   "source": [
    "df_2019_2021.info()"
   ]
  },
  {
   "cell_type": "code",
   "execution_count": 6,
   "id": "f6606e3f-9118-4252-9e4c-810916dcb504",
   "metadata": {},
   "outputs": [
    {
     "name": "stdout",
     "output_type": "stream",
     "text": [
      "<class 'pandas.core.frame.DataFrame'>\n",
      "RangeIndex: 1121571 entries, 0 to 1121570\n",
      "Data columns (total 15 columns):\n",
      " #   Column   Non-Null Count    Dtype  \n",
      "---  ------   --------------    -----  \n",
      " 0   Num_Acc  1121571 non-null  int64  \n",
      " 1   an       1121571 non-null  int64  \n",
      " 2   mois     1121571 non-null  int64  \n",
      " 3   jour     1121571 non-null  int64  \n",
      " 4   hrmn     1121571 non-null  object \n",
      " 5   lum      1121571 non-null  int64  \n",
      " 6   agg      1121571 non-null  int64  \n",
      " 7   int      1121571 non-null  int64  \n",
      " 8   atm      1121498 non-null  float64\n",
      " 9   col      1121552 non-null  float64\n",
      " 10  com      1121569 non-null  object \n",
      " 11  adr      978295 non-null   object \n",
      " 12  lat      634503 non-null   object \n",
      " 13  long     634499 non-null   object \n",
      " 14  dep      1121571 non-null  object \n",
      "dtypes: float64(2), int64(7), object(6)\n",
      "memory usage: 128.4+ MB\n"
     ]
    }
   ],
   "source": [
    "data_caracteristiques.drop(columns='gps', inplace=True)\n",
    "data_caracteristiques=pd.concat([data_caracteristiques,df_2019_2021],axis=0, ignore_index=True)\n",
    "data_caracteristiques.info()"
   ]
  },
  {
   "cell_type": "markdown",
   "id": "29d7b9ad-0df3-4c0b-b67d-8e9a789e8d82",
   "metadata": {},
   "source": [
    "**Enregistrement des données dans un nouveau fichier csv**"
   ]
  },
  {
   "cell_type": "code",
   "execution_count": 7,
   "id": "52b9f0b2-3b34-4bbd-9d02-da4e86bac6f5",
   "metadata": {},
   "outputs": [],
   "source": [
    "data_caracteristiques.to_csv('caracteristiques_2005_2021.csv', sep=';', encoding='utf-8')"
   ]
  },
  {
   "cell_type": "markdown",
   "id": "c6b349f2-c54d-4ba1-801f-467f5dcad79f",
   "metadata": {},
   "source": [
    "***\n",
    "## Ouverture et concaténation des fichiers lieux"
   ]
  },
  {
   "cell_type": "code",
   "execution_count": 8,
   "id": "9b25e7bd-4023-4234-8cc7-bc977a83d816",
   "metadata": {},
   "outputs": [],
   "source": [
    "liste_dataframes = []\n",
    "for i in range(2005,2009,1):\n",
    "    liste_dataframes.append(pd.read_csv(f'lieux_{i}.csv', dtype={'voie': 'str'}))\n",
    "    \n",
    "for i in range(2009,2019,1):\n",
    "    liste_dataframes.append(pd.read_csv(f'lieux_{i}.csv', sep=',', dtype={'voie': 'str'}))\n",
    "\n",
    "data_lieux = pd.concat(liste_dataframes, axis=0, ignore_index=True)"
   ]
  },
  {
   "cell_type": "code",
   "execution_count": 9,
   "id": "d973fe00-2ab6-44b7-b7a1-c765804e53a0",
   "metadata": {},
   "outputs": [
    {
     "name": "stdout",
     "output_type": "stream",
     "text": [
      "<class 'pandas.core.frame.DataFrame'>\n",
      "RangeIndex: 958469 entries, 0 to 958468\n",
      "Data columns (total 18 columns):\n",
      " #   Column   Non-Null Count   Dtype  \n",
      "---  ------   --------------   -----  \n",
      " 0   Num_Acc  958469 non-null  int64  \n",
      " 1   catr     958468 non-null  float64\n",
      " 2   voie     869558 non-null  object \n",
      " 3   v1       333391 non-null  float64\n",
      " 4   v2       39348 non-null   object \n",
      " 5   circ     956895 non-null  float64\n",
      " 6   nbv      955738 non-null  float64\n",
      " 7   pr       482985 non-null  float64\n",
      " 8   pr1      481166 non-null  float64\n",
      " 9   vosp     955708 non-null  float64\n",
      " 10  prof     956520 non-null  float64\n",
      " 11  plan     956188 non-null  float64\n",
      " 12  lartpc   902271 non-null  float64\n",
      " 13  larrout  904096 non-null  float64\n",
      " 14  surf     956545 non-null  float64\n",
      " 15  infra    953061 non-null  float64\n",
      " 16  situ     953499 non-null  float64\n",
      " 17  env1     953029 non-null  float64\n",
      "dtypes: float64(15), int64(1), object(2)\n",
      "memory usage: 131.6+ MB\n"
     ]
    }
   ],
   "source": [
    "data_lieux.info()"
   ]
  },
  {
   "cell_type": "code",
   "execution_count": 10,
   "id": "8861981c-c8ab-46a2-a45c-6d93615b4429",
   "metadata": {},
   "outputs": [],
   "source": [
    "liste_dataframes=[]\n",
    "for i in range(2019,2022,1):\n",
    "    liste_dataframes.append(pd.read_csv(f\"lieux_{i}.csv\", sep=';'))\n",
    "    \n",
    "df_2019_2021 = pd.concat(liste_dataframes, axis=0, ignore_index=True)"
   ]
  },
  {
   "cell_type": "code",
   "execution_count": 11,
   "id": "8b14db53-4e51-441b-8bac-c3e394b0d91e",
   "metadata": {},
   "outputs": [
    {
     "name": "stdout",
     "output_type": "stream",
     "text": [
      "<class 'pandas.core.frame.DataFrame'>\n",
      "RangeIndex: 163102 entries, 0 to 163101\n",
      "Data columns (total 18 columns):\n",
      " #   Column   Non-Null Count   Dtype  \n",
      "---  ------   --------------   -----  \n",
      " 0   Num_Acc  163102 non-null  int64  \n",
      " 1   catr     163102 non-null  int64  \n",
      " 2   voie     144833 non-null  object \n",
      " 3   v1       152356 non-null  float64\n",
      " 4   v2       12021 non-null   object \n",
      " 5   circ     163102 non-null  int64  \n",
      " 6   nbv      163102 non-null  int64  \n",
      " 7   vosp     163102 non-null  int64  \n",
      " 8   prof     163102 non-null  int64  \n",
      " 9   pr       163102 non-null  object \n",
      " 10  pr1      163102 non-null  object \n",
      " 11  plan     163102 non-null  int64  \n",
      " 12  lartpc   468 non-null     object \n",
      " 13  larrout  104634 non-null  object \n",
      " 14  surf     163102 non-null  int64  \n",
      " 15  infra    163102 non-null  int64  \n",
      " 16  situ     163102 non-null  int64  \n",
      " 17  vma      163102 non-null  int64  \n",
      "dtypes: float64(1), int64(11), object(6)\n",
      "memory usage: 22.4+ MB\n"
     ]
    }
   ],
   "source": [
    "df_2019_2021.info()"
   ]
  },
  {
   "cell_type": "code",
   "execution_count": 12,
   "id": "c5332cba-96df-42d0-9039-abe8e6c4e922",
   "metadata": {},
   "outputs": [
    {
     "name": "stdout",
     "output_type": "stream",
     "text": [
      "<class 'pandas.core.frame.DataFrame'>\n",
      "RangeIndex: 1121571 entries, 0 to 1121570\n",
      "Data columns (total 19 columns):\n",
      " #   Column   Non-Null Count    Dtype  \n",
      "---  ------   --------------    -----  \n",
      " 0   Num_Acc  1121571 non-null  int64  \n",
      " 1   catr     1121570 non-null  float64\n",
      " 2   voie     1014391 non-null  object \n",
      " 3   v1       485747 non-null   float64\n",
      " 4   v2       51369 non-null    object \n",
      " 5   circ     1119997 non-null  float64\n",
      " 6   nbv      1118840 non-null  float64\n",
      " 7   pr       646087 non-null   object \n",
      " 8   pr1      644268 non-null   object \n",
      " 9   vosp     1118810 non-null  float64\n",
      " 10  prof     1119622 non-null  float64\n",
      " 11  plan     1119290 non-null  float64\n",
      " 12  lartpc   902739 non-null   object \n",
      " 13  larrout  1008730 non-null  object \n",
      " 14  surf     1119647 non-null  float64\n",
      " 15  infra    1116163 non-null  float64\n",
      " 16  situ     1116601 non-null  float64\n",
      " 17  env1     953029 non-null   float64\n",
      " 18  vma      163102 non-null   float64\n",
      "dtypes: float64(12), int64(1), object(6)\n",
      "memory usage: 162.6+ MB\n"
     ]
    }
   ],
   "source": [
    "data_lieux=pd.concat([data_lieux,df_2019_2021],axis=0, ignore_index=True)\n",
    "data_lieux.info()"
   ]
  },
  {
   "cell_type": "code",
   "execution_count": 13,
   "id": "c4c6f5ca-cb85-43e8-8b3d-0ab138cd1ed7",
   "metadata": {},
   "outputs": [],
   "source": [
    "data_lieux.to_csv('lieux_2005_2021.csv', sep=';', encoding='utf-8')"
   ]
  },
  {
   "cell_type": "markdown",
   "id": "896ab569-1cfc-4396-8663-2c2df02b22c5",
   "metadata": {},
   "source": [
    "***\n",
    "## Ouverture et concaténation des fichiers usagers"
   ]
  },
  {
   "cell_type": "code",
   "execution_count": 14,
   "id": "d051072d-d301-4dc7-9429-09a9007ec2ef",
   "metadata": {},
   "outputs": [],
   "source": [
    "liste_dataframes = []\n",
    "for i in range(2005,2009,1):\n",
    "    liste_dataframes.append(pd.read_csv(f'usagers_{i}.csv'))\n",
    "    \n",
    "for i in range(2009,2019,1):\n",
    "    liste_dataframes.append(pd.read_csv(f'usagers_{i}.csv', sep=','))\n",
    "\n",
    "data_usagers = pd.concat(liste_dataframes, axis=0, ignore_index=True)"
   ]
  },
  {
   "cell_type": "code",
   "execution_count": 15,
   "id": "abab6373-ce70-4e51-9474-60e1318c492b",
   "metadata": {},
   "outputs": [
    {
     "name": "stdout",
     "output_type": "stream",
     "text": [
      "<class 'pandas.core.frame.DataFrame'>\n",
      "RangeIndex: 2142195 entries, 0 to 2142194\n",
      "Data columns (total 12 columns):\n",
      " #   Column   Dtype  \n",
      "---  ------   -----  \n",
      " 0   Num_Acc  int64  \n",
      " 1   place    float64\n",
      " 2   catu     int64  \n",
      " 3   grav     int64  \n",
      " 4   sexe     int64  \n",
      " 5   trajet   float64\n",
      " 6   secu     float64\n",
      " 7   locp     float64\n",
      " 8   actp     float64\n",
      " 9   etatp    float64\n",
      " 10  an_nais  float64\n",
      " 11  num_veh  object \n",
      "dtypes: float64(7), int64(4), object(1)\n",
      "memory usage: 196.1+ MB\n"
     ]
    }
   ],
   "source": [
    "data_usagers.info()"
   ]
  },
  {
   "cell_type": "code",
   "execution_count": 16,
   "id": "43ee5905-00a0-4b37-980a-c7404caabe42",
   "metadata": {},
   "outputs": [],
   "source": [
    "liste_dataframes=[]\n",
    "for i in range(2019,2022,1):\n",
    "    liste_dataframes.append(pd.read_csv(f\"usagers_{i}.csv\", sep=';'))\n",
    "    \n",
    "df_2019_2021 = pd.concat(liste_dataframes, axis=0, ignore_index=True)"
   ]
  },
  {
   "cell_type": "code",
   "execution_count": 17,
   "id": "f6f5d3d2-4ddf-4653-816d-64806dc7ed25",
   "metadata": {},
   "outputs": [
    {
     "name": "stdout",
     "output_type": "stream",
     "text": [
      "<class 'pandas.core.frame.DataFrame'>\n",
      "RangeIndex: 367425 entries, 0 to 367424\n",
      "Data columns (total 15 columns):\n",
      " #   Column       Non-Null Count   Dtype  \n",
      "---  ------       --------------   -----  \n",
      " 0   Num_Acc      367425 non-null  int64  \n",
      " 1   id_vehicule  367425 non-null  object \n",
      " 2   num_veh      367425 non-null  object \n",
      " 3   place        367425 non-null  int64  \n",
      " 4   catu         367425 non-null  int64  \n",
      " 5   grav         367425 non-null  int64  \n",
      " 6   sexe         367425 non-null  int64  \n",
      " 7   an_nais      364358 non-null  float64\n",
      " 8   trajet       367425 non-null  int64  \n",
      " 9   secu1        367425 non-null  int64  \n",
      " 10  secu2        367425 non-null  int64  \n",
      " 11  secu3        367425 non-null  int64  \n",
      " 12  locp         367425 non-null  int64  \n",
      " 13  actp         367425 non-null  object \n",
      " 14  etatp        367425 non-null  int64  \n",
      "dtypes: float64(1), int64(11), object(3)\n",
      "memory usage: 42.0+ MB\n"
     ]
    }
   ],
   "source": [
    "df_2019_2021.info()"
   ]
  },
  {
   "cell_type": "code",
   "execution_count": 18,
   "id": "415119ed-bc47-4453-a691-b74a74f4c61c",
   "metadata": {},
   "outputs": [],
   "source": [
    "data_usagers.drop(columns='secu', inplace=True)"
   ]
  },
  {
   "cell_type": "code",
   "execution_count": 19,
   "id": "e9b35f43-5f80-4881-8e12-c765f90f95fa",
   "metadata": {},
   "outputs": [],
   "source": [
    "df_2019_2021.drop(columns=[\"secu1\", \"secu2\", \"secu3\"], inplace=True)"
   ]
  },
  {
   "cell_type": "code",
   "execution_count": 20,
   "id": "4077a59c-c256-4fd0-8d17-780e7cbc9019",
   "metadata": {},
   "outputs": [],
   "source": [
    "df_2019_2021.drop(columns=[\"id_vehicule\"], inplace=True)"
   ]
  },
  {
   "cell_type": "code",
   "execution_count": 21,
   "id": "d834543d-5fa6-48eb-9ff0-db3fd0e092f4",
   "metadata": {},
   "outputs": [
    {
     "name": "stdout",
     "output_type": "stream",
     "text": [
      "<class 'pandas.core.frame.DataFrame'>\n",
      "RangeIndex: 2509620 entries, 0 to 2509619\n",
      "Data columns (total 11 columns):\n",
      " #   Column   Dtype  \n",
      "---  ------   -----  \n",
      " 0   Num_Acc  int64  \n",
      " 1   place    float64\n",
      " 2   catu     int64  \n",
      " 3   grav     int64  \n",
      " 4   sexe     int64  \n",
      " 5   trajet   float64\n",
      " 6   locp     float64\n",
      " 7   actp     object \n",
      " 8   etatp    float64\n",
      " 9   an_nais  float64\n",
      " 10  num_veh  object \n",
      "dtypes: float64(5), int64(4), object(2)\n",
      "memory usage: 210.6+ MB\n"
     ]
    }
   ],
   "source": [
    "data_usagers=pd.concat([data_usagers,df_2019_2021],axis=0, ignore_index=True)\n",
    "data_usagers.info()"
   ]
  },
  {
   "cell_type": "code",
   "execution_count": 22,
   "id": "8f7610e0-17e0-4439-b767-b7774cb91f48",
   "metadata": {},
   "outputs": [],
   "source": [
    "data_usagers.to_csv('usagers_2005_2021.csv', encoding='utf-8', sep=';')"
   ]
  },
  {
   "cell_type": "markdown",
   "id": "1bd59b6d-db0e-4374-979d-ac72d75f88e6",
   "metadata": {},
   "source": [
    "***\n",
    "## Ouverture et concaténation des fichiers vehicules"
   ]
  },
  {
   "cell_type": "code",
   "execution_count": 23,
   "id": "e378e7f2-f4e2-4a79-bf8c-9b2cf431f916",
   "metadata": {},
   "outputs": [],
   "source": [
    "liste_dataframes = []\n",
    "for i in range(2005,2009,1):\n",
    "    liste_dataframes.append(pd.read_csv(f'vehicules_{i}.csv'))\n",
    "    \n",
    "for i in range(2009,2019,1):\n",
    "    liste_dataframes.append(pd.read_csv(f'vehicules_{i}.csv', sep=','))\n",
    "\n",
    "data_vehicules = pd.concat(liste_dataframes, axis=0, ignore_index=True)"
   ]
  },
  {
   "cell_type": "code",
   "execution_count": 24,
   "id": "5f6f08ba-e5e8-490b-87ea-6508e794b6ab",
   "metadata": {},
   "outputs": [
    {
     "name": "stdout",
     "output_type": "stream",
     "text": [
      "<class 'pandas.core.frame.DataFrame'>\n",
      "RangeIndex: 1635811 entries, 0 to 1635810\n",
      "Data columns (total 9 columns):\n",
      " #   Column   Non-Null Count    Dtype  \n",
      "---  ------   --------------    -----  \n",
      " 0   Num_Acc  1635811 non-null  int64  \n",
      " 1   senc     1635539 non-null  float64\n",
      " 2   catv     1635811 non-null  int64  \n",
      " 3   occutc   1635811 non-null  int64  \n",
      " 4   obs      1634805 non-null  float64\n",
      " 5   obsm     1635033 non-null  float64\n",
      " 6   choc     1635414 non-null  float64\n",
      " 7   manv     1635343 non-null  float64\n",
      " 8   num_veh  1635811 non-null  object \n",
      "dtypes: float64(5), int64(3), object(1)\n",
      "memory usage: 112.3+ MB\n"
     ]
    }
   ],
   "source": [
    "data_vehicules.info()"
   ]
  },
  {
   "cell_type": "code",
   "execution_count": 25,
   "id": "cc07d54d-f95e-471a-88e2-558055473981",
   "metadata": {},
   "outputs": [],
   "source": [
    "liste_dataframes=[]\n",
    "for i in range(2019,2022,1):\n",
    "    liste_dataframes.append(pd.read_csv(f\"vehicules_{i}.csv\", sep=';'))\n",
    "    \n",
    "df_2019_2021 = pd.concat(liste_dataframes, axis=0, ignore_index=True)"
   ]
  },
  {
   "cell_type": "code",
   "execution_count": 26,
   "id": "476e002d-5059-4b24-af08-39dd5c8672ea",
   "metadata": {},
   "outputs": [
    {
     "name": "stdout",
     "output_type": "stream",
     "text": [
      "<class 'pandas.core.frame.DataFrame'>\n",
      "RangeIndex: 279091 entries, 0 to 279090\n",
      "Data columns (total 11 columns):\n",
      " #   Column       Non-Null Count   Dtype  \n",
      "---  ------       --------------   -----  \n",
      " 0   Num_Acc      279091 non-null  int64  \n",
      " 1   id_vehicule  279091 non-null  object \n",
      " 2   num_veh      279091 non-null  object \n",
      " 3   senc         279091 non-null  int64  \n",
      " 4   catv         279091 non-null  int64  \n",
      " 5   obs          279091 non-null  int64  \n",
      " 6   obsm         279091 non-null  int64  \n",
      " 7   choc         279091 non-null  int64  \n",
      " 8   manv         279091 non-null  int64  \n",
      " 9   motor        279091 non-null  int64  \n",
      " 10  occutc       2257 non-null    float64\n",
      "dtypes: float64(1), int64(8), object(2)\n",
      "memory usage: 23.4+ MB\n"
     ]
    }
   ],
   "source": [
    "df_2019_2021.info()"
   ]
  },
  {
   "cell_type": "code",
   "execution_count": 27,
   "id": "63def4df-ba15-45e9-a2ea-fa3e105832c1",
   "metadata": {},
   "outputs": [],
   "source": [
    "df_2019_2021.drop(columns=['id_vehicule','motor'], inplace=True)"
   ]
  },
  {
   "cell_type": "code",
   "execution_count": 28,
   "id": "9a955b88-2b9d-41d8-9e1f-241130a9ec15",
   "metadata": {},
   "outputs": [],
   "source": [
    "data_vehicules = pd.concat([data_vehicules, df_2019_2021], axis=0, ignore_index=True)"
   ]
  },
  {
   "cell_type": "code",
   "execution_count": 29,
   "id": "5816e441-4d5c-42d0-93dd-fcaf23353686",
   "metadata": {},
   "outputs": [],
   "source": [
    "data_vehicules.to_csv('vehicules_2005_2021.csv', encoding='utf-8', sep=';')"
   ]
  },
  {
   "cell_type": "code",
   "execution_count": null,
   "id": "b1fcd67d-f2d5-4a9f-9f7e-d05564e8612d",
   "metadata": {},
   "outputs": [],
   "source": []
  }
 ],
 "metadata": {
  "kernelspec": {
   "display_name": "Python 3 (ipykernel)",
   "language": "python",
   "name": "python3"
  },
  "language_info": {
   "codemirror_mode": {
    "name": "ipython",
    "version": 3
   },
   "file_extension": ".py",
   "mimetype": "text/x-python",
   "name": "python",
   "nbconvert_exporter": "python",
   "pygments_lexer": "ipython3",
   "version": "3.10.9"
  }
 },
 "nbformat": 4,
 "nbformat_minor": 5
}
